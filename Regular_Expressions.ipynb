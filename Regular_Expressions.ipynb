{
 "cells": [
  {
   "cell_type": "markdown",
   "metadata": {},
   "source": [
    "## Regular Expressions"
   ]
  },
  {
   "cell_type": "markdown",
   "metadata": {},
   "source": [
    "Some simple string finding and matching operations:"
   ]
  },
  {
   "cell_type": "code",
   "execution_count": 1,
   "metadata": {
    "collapsed": true
   },
   "outputs": [],
   "source": [
    "s = 'firefly'"
   ]
  },
  {
   "cell_type": "code",
   "execution_count": 3,
   "metadata": {},
   "outputs": [
    {
     "data": {
      "text/plain": [
       "True"
      ]
     },
     "execution_count": 3,
     "metadata": {},
     "output_type": "execute_result"
    }
   ],
   "source": [
    "'fly' in s"
   ]
  },
  {
   "cell_type": "code",
   "execution_count": 4,
   "metadata": {},
   "outputs": [
    {
     "data": {
      "text/plain": [
       "4"
      ]
     },
     "execution_count": 4,
     "metadata": {},
     "output_type": "execute_result"
    }
   ],
   "source": [
    "s.find('fly')"
   ]
  },
  {
   "cell_type": "code",
   "execution_count": 5,
   "metadata": {},
   "outputs": [
    {
     "data": {
      "text/plain": [
       "-1"
      ]
     },
     "execution_count": 5,
     "metadata": {},
     "output_type": "execute_result"
    }
   ],
   "source": [
    "s.find('flies')"
   ]
  },
  {
   "cell_type": "code",
   "execution_count": 6,
   "metadata": {},
   "outputs": [
    {
     "data": {
      "text/plain": [
       "2"
      ]
     },
     "execution_count": 6,
     "metadata": {},
     "output_type": "execute_result"
    }
   ],
   "source": [
    "s.count('f')"
   ]
  },
  {
   "cell_type": "code",
   "execution_count": 9,
   "metadata": {},
   "outputs": [],
   "source": [
    "a = s.replace('fire', 'dragon')"
   ]
  },
  {
   "cell_type": "code",
   "execution_count": 11,
   "metadata": {},
   "outputs": [
    {
     "data": {
      "text/plain": [
       "'firefly'"
      ]
     },
     "execution_count": 11,
     "metadata": {},
     "output_type": "execute_result"
    }
   ],
   "source": [
    "s"
   ]
  },
  {
   "cell_type": "code",
   "execution_count": 12,
   "metadata": {},
   "outputs": [
    {
     "data": {
      "text/plain": [
       "'dragonfly'"
      ]
     },
     "execution_count": 12,
     "metadata": {},
     "output_type": "execute_result"
    }
   ],
   "source": [
    "a"
   ]
  },
  {
   "cell_type": "raw",
   "metadata": {},
   "source": [
    "Regular expressions are compact way of specifying a set of strings that all has some property. We can then check if the string contains that pattern."
   ]
  },
  {
   "cell_type": "code",
   "execution_count": 68,
   "metadata": {},
   "outputs": [
    {
     "name": "stdout",
     "output_type": "stream",
     "text": [
      "Not found\n"
     ]
    },
    {
     "data": {
      "text/plain": [
       "'ad'"
      ]
     },
     "execution_count": 68,
     "metadata": {},
     "output_type": "execute_result"
    }
   ],
   "source": [
    "import re\n",
    "f =\"ab*d\"\n",
    "f1 = \"ab+d\"\n",
    "s1 = \"ad\"\n",
    "s2 = \"abd\"\n",
    "s3 = \"abbbbd\"\n",
    "m = re.search(f, s1)\n",
    "n = re.search(f1, s1)\n",
    "try:\n",
    "    print(n.group(0))\n",
    "except(AttributeError):\n",
    "    print(\"Not found\")\n",
    "m.group(0)"
   ]
  },
  {
   "cell_type": "code",
   "execution_count": 61,
   "metadata": {},
   "outputs": [
    {
     "data": {
      "text/plain": [
       "'abcdbcdbcdd'"
      ]
     },
     "execution_count": 61,
     "metadata": {},
     "output_type": "execute_result"
    }
   ],
   "source": [
    "import re\n",
    "s =\"a(bcd)*d\"\n",
    "s1 = \"abcdbcdbcddbbbbbbbbd\"\n",
    "m = re.search(s, s1)\n",
    "m.group(0)"
   ]
  },
  {
   "cell_type": "code",
   "execution_count": 74,
   "metadata": {},
   "outputs": [
    {
     "name": "stdout",
     "output_type": "stream",
     "text": [
      "Not found\n",
      "abbd\n",
      "abbbbd\n",
      "Not found\n"
     ]
    }
   ],
   "source": [
    "import re\n",
    "f =\"ab{2,4}d\"\n",
    "s1 = \"ad\"\n",
    "s2 = \"abbd\"\n",
    "s3 = \"abbbbd\"\n",
    "s4 = \"abbbbbd\"\n",
    "m = re.search(f, s1)\n",
    "n = re.search(f, s2)\n",
    "m1 = re.search(f, s3)\n",
    "n1 = re.search(f, s4)\n",
    "try:\n",
    "    print(m.group(0))\n",
    "except(AttributeError):\n",
    "    print(\"Not found\")\n",
    "print(n.group(0))\n",
    "print(m1.group(0))\n",
    "try:\n",
    "    print(n1.group(0))\n",
    "except(AttributeError):\n",
    "    print(\"Not found\")"
   ]
  },
  {
   "cell_type": "code",
   "execution_count": 77,
   "metadata": {},
   "outputs": [
    {
     "name": "stdout",
     "output_type": "stream",
     "text": [
      "Not found\n",
      "abbd\n",
      "Not found\n",
      "Not found\n"
     ]
    }
   ],
   "source": [
    "import re\n",
    "f =\"ab{2}d\"\n",
    "s1 = \"ad\"\n",
    "s2 = \"abbd\"\n",
    "s3 = \"abbbbd\"\n",
    "s4 = \"abbbbbd\"\n",
    "m = re.search(f, s1)\n",
    "n = re.search(f, s2)\n",
    "m1 = re.search(f, s3)\n",
    "n1 = re.search(f, s4)\n",
    "try:\n",
    "    print(m.group(0))\n",
    "except(AttributeError):\n",
    "    print(\"Not found\")\n",
    "print(n.group(0))\n",
    "try:\n",
    "    print(m1.group(0))\n",
    "except(AttributeError):\n",
    "    print(\"Not found\")\n",
    "try:\n",
    "    print(n1.group(0))\n",
    "except(AttributeError):\n",
    "    print(\"Not found\")"
   ]
  },
  {
   "cell_type": "code",
   "execution_count": 81,
   "metadata": {},
   "outputs": [
    {
     "name": "stdout",
     "output_type": "stream",
     "text": [
      "ad\n",
      "abbd\n",
      "abbb\n",
      "abbb\n"
     ]
    }
   ],
   "source": [
    "import re\n",
    "f =\"ab{2}d|ad|abbb\"\n",
    "s1 = \"ad\"\n",
    "s2 = \"abbd\"\n",
    "s3 = \"abbbbd\"\n",
    "s4 = \"abbbbbd\"\n",
    "m = re.search(f, s1)\n",
    "n = re.search(f, s2)\n",
    "m1 = re.search(f, s3)\n",
    "n1 = re.search(f, s4)\n",
    "try:\n",
    "    print(m.group(0))\n",
    "except(AttributeError):\n",
    "    print(\"Not found\")\n",
    "print(n.group(0))\n",
    "try:\n",
    "    print(m1.group(0))\n",
    "except(AttributeError):\n",
    "    print(\"Not found\")\n",
    "try:\n",
    "    print(n1.group(0))\n",
    "except(AttributeError):\n",
    "    print(\"Not found\")"
   ]
  },
  {
   "cell_type": "markdown",
   "metadata": {},
   "source": [
    "The following snippet shows that if we use the or operator here we would be getting only one value back."
   ]
  },
  {
   "cell_type": "code",
   "execution_count": 88,
   "metadata": {},
   "outputs": [
    {
     "name": "stdout",
     "output_type": "stream",
     "text": [
      "d\n",
      "b\n",
      "a\n",
      "a\n"
     ]
    }
   ],
   "source": [
    "import re\n",
    "f =\"[abd]\"\n",
    "s1 = \"d\"\n",
    "s2 = \"bbd\"\n",
    "s3 = \"abbbbd\"\n",
    "s4 = \"abd\"\n",
    "m = re.search(f, s1)\n",
    "n = re.search(f, s2)\n",
    "m1 = re.search(f, s3)\n",
    "n1 = re.search(f, s4)\n",
    "try:\n",
    "    print(m.group(0))\n",
    "except(AttributeError):\n",
    "    print(\"Not found\")\n",
    "try:\n",
    "    print(n.group(0))\n",
    "except(AttributeError):\n",
    "    print(\"Not found\")\n",
    "try:\n",
    "    print(m1.group(0))\n",
    "except(AttributeError):\n",
    "    print(\"Not found\")\n",
    "try:\n",
    "    print(n1.group(0))\n",
    "except(AttributeError):\n",
    "    print(\"Not found\")"
   ]
  },
  {
   "cell_type": "code",
   "execution_count": 95,
   "metadata": {},
   "outputs": [
    {
     "name": "stdout",
     "output_type": "stream",
     "text": [
      "ad\n",
      "ad\n",
      "ad\n",
      "ad\n"
     ]
    }
   ],
   "source": [
    "import re\n",
    "f =\"b|bb|ad\"\n",
    "s1 = \"adbb\"\n",
    "s2 = \"adbbd\"\n",
    "s3 = \"adbbbbd\"\n",
    "s4 = \"adbbbbbd\"\n",
    "m = re.search(f, s1)\n",
    "n = re.search(f, s2)\n",
    "m1 = re.search(f, s3)\n",
    "n1 = re.search(f, s4)\n",
    "try:\n",
    "    print(m.group(0))\n",
    "except(AttributeError):\n",
    "    print(\"Not found\")\n",
    "print(n.group(0))\n",
    "try:\n",
    "    print(m1.group(0))\n",
    "except(AttributeError):\n",
    "    print(\"Not found\")\n",
    "try:\n",
    "    print(n1.group(0))\n",
    "except(AttributeError):\n",
    "    print(\"Not found\")"
   ]
  },
  {
   "cell_type": "code",
   "execution_count": 97,
   "metadata": {},
   "outputs": [
    {
     "name": "stdout",
     "output_type": "stream",
     "text": [
      "b\n",
      "b\n",
      "a\n",
      "a\n"
     ]
    }
   ],
   "source": [
    "import re\n",
    "f =\"[a-c]\"\n",
    "s1 = \"bcb\"\n",
    "s2 = \"dbbd\"\n",
    "s3 = \"adbbbbd\"\n",
    "s4 = \"adbbbbbd\"\n",
    "m = re.search(f, s1)\n",
    "n = re.search(f, s2)\n",
    "m1 = re.search(f, s3)\n",
    "n1 = re.search(f, s4)\n",
    "try:\n",
    "    print(m.group(0))\n",
    "except(AttributeError):\n",
    "    print(\"Not found\")\n",
    "print(n.group(0))\n",
    "try:\n",
    "    print(m1.group(0))\n",
    "except(AttributeError):\n",
    "    print(\"Not found\")\n",
    "try:\n",
    "    print(n1.group(0))\n",
    "except(AttributeError):\n",
    "    print(\"Not found\")"
   ]
  },
  {
   "cell_type": "code",
   "execution_count": 116,
   "metadata": {},
   "outputs": [
    {
     "name": "stdout",
     "output_type": "stream",
     "text": [
      "Not found\n",
      "d\n",
      "d\n",
      "d\n"
     ]
    }
   ],
   "source": [
    "import re\n",
    "f =\"[^(a-c)]\"\n",
    "s1 = \"bcb\"\n",
    "s2 = \"dbbd\"\n",
    "s3 = \"adbbbbd\"\n",
    "s4 = \"adbbbbbd\"\n",
    "m = re.search(f, s1)\n",
    "n = re.search(f, s2)\n",
    "m1 = re.search(f, s3)\n",
    "n1 = re.search(f, s4)\n",
    "try:\n",
    "    print(m.group(0))\n",
    "except(AttributeError):\n",
    "    print(\"Not found\")\n",
    "print(n.group(0))\n",
    "try:\n",
    "    print(m1.group(0))\n",
    "except(AttributeError):\n",
    "    print(\"Not found\")\n",
    "try:\n",
    "    print(n1.group(0))\n",
    "except(AttributeError):\n",
    "    print(\"Not found\")"
   ]
  },
  {
   "cell_type": "markdown",
   "metadata": {},
   "source": [
    ". matches any single character as in the . would be replaced with a single character. "
   ]
  },
  {
   "cell_type": "code",
   "execution_count": 105,
   "metadata": {},
   "outputs": [
    {
     "name": "stdout",
     "output_type": "stream",
     "text": [
      "bcb\n",
      "Not found\n",
      "bbb\n",
      "bbb\n"
     ]
    }
   ],
   "source": [
    "import re\n",
    "f =\"b.b\"\n",
    "s1 = \"bcb\"\n",
    "s2 = \"dbbd\"\n",
    "s3 = \"adbbbbd\"\n",
    "s4 = \"adbbbbbd\"\n",
    "m = re.search(f, s1)\n",
    "n = re.search(f, s2)\n",
    "m1 = re.search(f, s3)\n",
    "n1 = re.search(f, s4)\n",
    "try:\n",
    "    print(m.group(0))\n",
    "except(AttributeError):\n",
    "    print(\"Not found\")\n",
    "try:\n",
    "    print(n.group(0))\n",
    "except(AttributeError):\n",
    "    print(\"Not found\")\n",
    "try:\n",
    "    print(m1.group(0))\n",
    "except(AttributeError):\n",
    "    print(\"Not found\")\n",
    "try:\n",
    "    print(n1.group(0))\n",
    "except(AttributeError):\n",
    "    print(\"Not found\")"
   ]
  },
  {
   "cell_type": "code",
   "execution_count": 107,
   "metadata": {},
   "outputs": [
    {
     "name": "stdout",
     "output_type": "stream",
     "text": [
      "bcb\n",
      "bb\n",
      "bbbb\n",
      "Not found\n"
     ]
    }
   ],
   "source": [
    "import re\n",
    "f =\"b.*b\"\n",
    "s1 = \"bcb\"\n",
    "s2 = \"dbbd\"\n",
    "s3 = \"adbbbbd\"\n",
    "s4 = \"afaflkmkla\"\n",
    "m = re.search(f, s1)\n",
    "n = re.search(f, s2)\n",
    "m1 = re.search(f, s3)\n",
    "n1 = re.search(f, s4)\n",
    "try:\n",
    "    print(m.group(0))\n",
    "except(AttributeError):\n",
    "    print(\"Not found\")\n",
    "try:\n",
    "    print(n.group(0))\n",
    "except(AttributeError):\n",
    "    print(\"Not found\")\n",
    "try:\n",
    "    print(m1.group(0))\n",
    "except(AttributeError):\n",
    "    print(\"Not found\")\n",
    "try:\n",
    "    print(n1.group(0))\n",
    "except(AttributeError):\n",
    "    print(\"Not found\")"
   ]
  },
  {
   "cell_type": "code",
   "execution_count": 129,
   "metadata": {},
   "outputs": [
    {
     "name": "stdout",
     "output_type": "stream",
     "text": [
      "Not found\n",
      "Not found\n",
      "ad\n",
      "Not found\n"
     ]
    }
   ],
   "source": [
    "import re\n",
    "f =\"^ad\"\n",
    "s1 = \"bcb\"\n",
    "s2 = \"dbbd\"\n",
    "s3 = \"adbbbbd\"\n",
    "s4 = \"afaflkmkla\"\n",
    "m = re.search(f, s1)\n",
    "n = re.search(f, s2)\n",
    "m1 = re.search(f, s3)\n",
    "n1 = re.search(f, s4)\n",
    "try:\n",
    "    print(m.group(0))\n",
    "except(AttributeError):\n",
    "    print(\"Not found\")\n",
    "try:\n",
    "    print(n.group(0))\n",
    "except(AttributeError):\n",
    "    print(\"Not found\")\n",
    "try:\n",
    "    print(m1.group(0))\n",
    "except(AttributeError):\n",
    "    print(\"Not found\")\n",
    "try:\n",
    "    print(n1.group(0))\n",
    "except(AttributeError):\n",
    "    print(\"Not found\")"
   ]
  },
  {
   "cell_type": "code",
   "execution_count": 134,
   "metadata": {},
   "outputs": [
    {
     "name": "stdout",
     "output_type": "stream",
     "text": [
      "Not found\n",
      "bbd\n",
      "bbd\n",
      "Not found\n"
     ]
    }
   ],
   "source": [
    "import re\n",
    "f =\"bbd$\"\n",
    "s1 = \"bcb\"\n",
    "s2 = \"dbbd\"\n",
    "s3 = \"adbbbbd\"\n",
    "s4 = \"afaflkmkla\"\n",
    "m = re.search(f, s1)\n",
    "n = re.search(f, s2)\n",
    "m1 = re.search(f, s3)\n",
    "n1 = re.search(f, s4)\n",
    "try:\n",
    "    print(m.group(0))\n",
    "except(AttributeError):\n",
    "    print(\"Not found\")\n",
    "try:\n",
    "    print(n.group(0))\n",
    "except(AttributeError):\n",
    "    print(\"Not found\")\n",
    "try:\n",
    "    print(m1.group(0))\n",
    "except(AttributeError):\n",
    "    print(\"Not found\")\n",
    "try:\n",
    "    print(n1.group(0))\n",
    "except(AttributeError):\n",
    "    print(\"Not found\")"
   ]
  },
  {
   "cell_type": "code",
   "execution_count": 142,
   "metadata": {},
   "outputs": [
    {
     "data": {
      "text/plain": [
       "<_sre.SRE_Match object; span=(0, 9), match='test1.txt'>"
      ]
     },
     "execution_count": 142,
     "metadata": {},
     "output_type": "execute_result"
    }
   ],
   "source": [
    "e = 'test([0-9]+)\\.(txt|doc)'\n",
    "re.search(e, 'test1.txt')"
   ]
  },
  {
   "cell_type": "code",
   "execution_count": 143,
   "metadata": {},
   "outputs": [],
   "source": [
    "one = re.search(e, 'test20.doc and more')"
   ]
  },
  {
   "cell_type": "code",
   "execution_count": 144,
   "metadata": {},
   "outputs": [
    {
     "name": "stdout",
     "output_type": "stream",
     "text": [
      "None\n"
     ]
    }
   ],
   "source": [
    "print(re.search(e, 'othertest.pdf'))"
   ]
  },
  {
   "cell_type": "code",
   "execution_count": 145,
   "metadata": {},
   "outputs": [
    {
     "data": {
      "text/plain": [
       "'test20.doc'"
      ]
     },
     "execution_count": 145,
     "metadata": {},
     "output_type": "execute_result"
    }
   ],
   "source": [
    "one.group()"
   ]
  },
  {
   "cell_type": "code",
   "execution_count": 146,
   "metadata": {},
   "outputs": [
    {
     "data": {
      "text/plain": [
       "'test20.doc'"
      ]
     },
     "execution_count": 146,
     "metadata": {},
     "output_type": "execute_result"
    }
   ],
   "source": [
    "one.group(0)"
   ]
  },
  {
   "cell_type": "code",
   "execution_count": 147,
   "metadata": {},
   "outputs": [
    {
     "data": {
      "text/plain": [
       "('20', 'doc')"
      ]
     },
     "execution_count": 147,
     "metadata": {},
     "output_type": "execute_result"
    }
   ],
   "source": [
    "one.groups()"
   ]
  },
  {
   "cell_type": "code",
   "execution_count": 149,
   "metadata": {},
   "outputs": [
    {
     "data": {
      "text/plain": [
       "'20'"
      ]
     },
     "execution_count": 149,
     "metadata": {},
     "output_type": "execute_result"
    }
   ],
   "source": [
    "one.group(1)"
   ]
  },
  {
   "cell_type": "code",
   "execution_count": 150,
   "metadata": {},
   "outputs": [
    {
     "data": {
      "text/plain": [
       "'doc'"
      ]
     },
     "execution_count": 150,
     "metadata": {},
     "output_type": "execute_result"
    }
   ],
   "source": [
    "one.group(2)"
   ]
  },
  {
   "cell_type": "code",
   "execution_count": 151,
   "metadata": {
    "collapsed": true
   },
   "outputs": [],
   "source": [
    "e = 'test(?P<number>[0-9]+)\\.(?P<type>txt|doc)'\n",
    "two = re.search(e, 'test20.doc annd more')"
   ]
  },
  {
   "cell_type": "code",
   "execution_count": 152,
   "metadata": {},
   "outputs": [
    {
     "data": {
      "text/plain": [
       "'test20.doc'"
      ]
     },
     "execution_count": 152,
     "metadata": {},
     "output_type": "execute_result"
    }
   ],
   "source": [
    "two.group()"
   ]
  },
  {
   "cell_type": "code",
   "execution_count": 153,
   "metadata": {},
   "outputs": [
    {
     "data": {
      "text/plain": [
       "('20', 'doc')"
      ]
     },
     "execution_count": 153,
     "metadata": {},
     "output_type": "execute_result"
    }
   ],
   "source": [
    "two.groups()"
   ]
  },
  {
   "cell_type": "code",
   "execution_count": 154,
   "metadata": {},
   "outputs": [
    {
     "data": {
      "text/plain": [
       "'20'"
      ]
     },
     "execution_count": 154,
     "metadata": {},
     "output_type": "execute_result"
    }
   ],
   "source": [
    "two.group(1)"
   ]
  },
  {
   "cell_type": "code",
   "execution_count": 155,
   "metadata": {},
   "outputs": [
    {
     "data": {
      "text/plain": [
       "'doc'"
      ]
     },
     "execution_count": 155,
     "metadata": {},
     "output_type": "execute_result"
    }
   ],
   "source": [
    "two.group(2)"
   ]
  },
  {
   "cell_type": "code",
   "execution_count": 157,
   "metadata": {},
   "outputs": [
    {
     "data": {
      "text/plain": [
       "'20'"
      ]
     },
     "execution_count": 157,
     "metadata": {},
     "output_type": "execute_result"
    }
   ],
   "source": [
    "two.group('number')"
   ]
  },
  {
   "cell_type": "code",
   "execution_count": 158,
   "metadata": {},
   "outputs": [
    {
     "data": {
      "text/plain": [
       "'doc'"
      ]
     },
     "execution_count": 158,
     "metadata": {},
     "output_type": "execute_result"
    }
   ],
   "source": [
    "two.group('type')"
   ]
  },
  {
   "cell_type": "code",
   "execution_count": 162,
   "metadata": {
    "collapsed": true
   },
   "outputs": [],
   "source": [
    "e = '[0-9]+'\n",
    "s = \"I have 3 cats, 2 dogs, and 33 fish.\""
   ]
  },
  {
   "cell_type": "code",
   "execution_count": 163,
   "metadata": {},
   "outputs": [
    {
     "name": "stdout",
     "output_type": "stream",
     "text": [
      "3\n",
      "2\n",
      "33\n"
     ]
    }
   ],
   "source": [
    "iterator = re.finditer(e,s)\n",
    "for match in iterator:\n",
    "    print(match.group())"
   ]
  },
  {
   "cell_type": "code",
   "execution_count": 236,
   "metadata": {
    "collapsed": true
   },
   "outputs": [
    {
     "name": "stdout",
     "output_type": "stream",
     "text": [
      "35\n",
      "<_sre.SRE_Match object; span=(0, 0), match=''>\n",
      "<_sre.SRE_Match object; span=(1, 1), match=''>\n",
      "<_sre.SRE_Match object; span=(2, 2), match=''>\n",
      "<_sre.SRE_Match object; span=(3, 3), match=''>\n",
      "<_sre.SRE_Match object; span=(4, 4), match=''>\n",
      "<_sre.SRE_Match object; span=(5, 5), match=''>\n",
      "<_sre.SRE_Match object; span=(6, 6), match=''>\n",
      "<_sre.SRE_Match object; span=(7, 8), match='3'>\n",
      "<_sre.SRE_Match object; span=(8, 8), match=''>\n",
      "<_sre.SRE_Match object; span=(9, 9), match=''>\n",
      "<_sre.SRE_Match object; span=(10, 10), match=''>\n",
      "<_sre.SRE_Match object; span=(11, 11), match=''>\n",
      "<_sre.SRE_Match object; span=(12, 12), match=''>\n",
      "<_sre.SRE_Match object; span=(13, 13), match=''>\n",
      "<_sre.SRE_Match object; span=(14, 14), match=''>\n",
      "<_sre.SRE_Match object; span=(15, 16), match='2'>\n",
      "<_sre.SRE_Match object; span=(16, 16), match=''>\n",
      "<_sre.SRE_Match object; span=(17, 17), match=''>\n",
      "<_sre.SRE_Match object; span=(18, 18), match=''>\n",
      "<_sre.SRE_Match object; span=(19, 19), match=''>\n",
      "<_sre.SRE_Match object; span=(20, 20), match=''>\n",
      "<_sre.SRE_Match object; span=(21, 21), match=''>\n",
      "<_sre.SRE_Match object; span=(22, 22), match=''>\n",
      "<_sre.SRE_Match object; span=(23, 23), match=''>\n",
      "<_sre.SRE_Match object; span=(24, 24), match=''>\n",
      "<_sre.SRE_Match object; span=(25, 25), match=''>\n",
      "<_sre.SRE_Match object; span=(26, 26), match=''>\n",
      "<_sre.SRE_Match object; span=(27, 28), match='3'>\n",
      "<_sre.SRE_Match object; span=(28, 29), match='3'>\n",
      "<_sre.SRE_Match object; span=(29, 29), match=''>\n",
      "<_sre.SRE_Match object; span=(30, 30), match=''>\n",
      "<_sre.SRE_Match object; span=(31, 31), match=''>\n",
      "<_sre.SRE_Match object; span=(32, 32), match=''>\n",
      "<_sre.SRE_Match object; span=(33, 33), match=''>\n",
      "<_sre.SRE_Match object; span=(34, 34), match=''>\n",
      "<_sre.SRE_Match object; span=(35, 35), match=''>\n"
     ]
    }
   ],
   "source": [
    "e = '[0-9]?'\n",
    "s = \"I have 3 cats, 2 dogs, and 33 fish.\"\n",
    "iterator = re.finditer(e,s)\n",
    "print(len(s))\n",
    "for match in iterator:\n",
    "    print(match)"
   ]
  },
  {
   "cell_type": "code",
   "execution_count": 174,
   "metadata": {},
   "outputs": [
    {
     "name": "stdout",
     "output_type": "stream",
     "text": [
      "CIS 110 ('CIS', '110')\n",
      "CIS 120 ('CIS', '120')\n"
     ]
    }
   ],
   "source": [
    "e = '([A-Z]{3}) ([0-9]{3})'\n",
    "s = \"I took CIS 110 and now I am taking CIS 120.\"\n",
    "for match in re.finditer(e,s):\n",
    "    print(match.group(), match.groups())"
   ]
  },
  {
   "cell_type": "code",
   "execution_count": 202,
   "metadata": {},
   "outputs": [
    {
     "name": "stdout",
     "output_type": "stream",
     "text": [
      "NOW I ('NOW', 'I')\n"
     ]
    }
   ],
   "source": [
    "e = '([A-Z]{3}) (\\D{1})'\n",
    "s = \"I took CIS 110 and NOW I am taking CIS 120.\"\n",
    "for match in re.finditer(e,s):\n",
    "    print(match.group(), match.groups())"
   ]
  },
  {
   "cell_type": "code",
   "execution_count": 203,
   "metadata": {},
   "outputs": [
    {
     "name": "stdout",
     "output_type": "stream",
     "text": [
      "CIS 110 ('CIS', '110')\n",
      "CIS 120 ('CIS', '120')\n"
     ]
    }
   ],
   "source": [
    "e = '([A-Z]{3}) (\\d{3})'\n",
    "s = \"I took CIS 110 and NOW I am taking CIS 120.\"\n",
    "for match in re.finditer(e,s):\n",
    "    print(match.group(), match.groups())"
   ]
  },
  {
   "cell_type": "code",
   "execution_count": 204,
   "metadata": {},
   "outputs": [
    {
     "name": "stdout",
     "output_type": "stream",
     "text": [
      "CIS 110 ('CIS', '110')\n",
      "CIS 120 ('CIS', '120')\n"
     ]
    }
   ],
   "source": [
    "e = '([A-Z]{3})\\s(\\d{3})'\n",
    "s = \"I took CIS 110 and NOW I am taking CIS 120.\"\n",
    "for match in re.finditer(e,s):\n",
    "    print(match.group(), match.groups())"
   ]
  },
  {
   "cell_type": "code",
   "execution_count": 205,
   "metadata": {},
   "outputs": [
    {
     "name": "stdout",
     "output_type": "stream",
     "text": [
      "CIS 110 ('CIS', '110')\n",
      "CIS 120 ('CIS', '120')\n"
     ]
    }
   ],
   "source": [
    "e = '([A-Z]{3})\\s{1}(\\d{3})'\n",
    "s = \"I took CIS 110 and NOW I am taking CIS 120.\"\n",
    "for match in re.finditer(e,s):\n",
    "    print(match.group(), match.groups())"
   ]
  },
  {
   "cell_type": "code",
   "execution_count": 206,
   "metadata": {
    "collapsed": true
   },
   "outputs": [],
   "source": [
    "e = '([A-Z]{3})\\s{2}(\\d{3})'\n",
    "s = \"I took CIS 110 and NOW I am taking CIS 120.\"\n",
    "for match in re.finditer(e,s):\n",
    "    print(match.group(), match.groups())"
   ]
  },
  {
   "cell_type": "code",
   "execution_count": 212,
   "metadata": {},
   "outputs": [
    {
     "name": "stdout",
     "output_type": "stream",
     "text": [
      "NOWI  ('NOW', ' ')\n"
     ]
    }
   ],
   "source": [
    "e = '([A-Z]{3})\\S(\\D)'\n",
    "s = \"I took CIS 110 and NOWI am taking CIS 120.\"\n",
    "for match in re.finditer(e,s):\n",
    "    print(match.group(), match.groups())"
   ]
  },
  {
   "cell_type": "code",
   "execution_count": 214,
   "metadata": {},
   "outputs": [
    {
     "name": "stdout",
     "output_type": "stream",
     "text": [
      "ook CIS ('ook', 'CIS')\n",
      "110 and ('110', 'and')\n",
      "ing CIS ('ing', 'CIS')\n"
     ]
    }
   ],
   "source": [
    "e = '(\\w{3})\\s(\\w{3})'\n",
    "s = \"I took CIS 110 and NOW I am taking CIS 120.\"\n",
    "for match in re.finditer(e,s):\n",
    "    print(match.group(), match.groups())"
   ]
  },
  {
   "cell_type": "code",
   "execution_count": 219,
   "metadata": {},
   "outputs": [
    {
     "name": "stdout",
     "output_type": "stream",
     "text": [
      "CIS 110 ('CIS', '110')\n",
      "CIS 120 ('CIS', '120')\n"
     ]
    }
   ],
   "source": [
    "e = '(\\w{3})\\W{1}(\\w{3})'\n",
    "s = \"CIS 110 CIS 120.\"\n",
    "for match in re.finditer(e,s):\n",
    "    print(match.group(), match.groups())"
   ]
  },
  {
   "cell_type": "code",
   "execution_count": 225,
   "metadata": {},
   "outputs": [
    {
     "name": "stdout",
     "output_type": "stream",
     "text": [
      "ook CIS ('ook', 'CIS')\n",
      "110 and ('110', 'and')\n",
      "ing CIS ('ing', 'CIS')\n"
     ]
    }
   ],
   "source": [
    "e = r'(\\w{3})\\s(\\w{3})'\n",
    "s = \"I took CIS 110 and NOW I am taking CIS 120.\"\n",
    "for match in re.finditer(e,s):\n",
    "    print(match.group(), match.groups())"
   ]
  },
  {
   "cell_type": "code",
   "execution_count": 226,
   "metadata": {},
   "outputs": [
    {
     "name": "stdout",
     "output_type": "stream",
     "text": [
      "I ()\n",
      "took ()\n",
      "CIS ()\n",
      "110 ()\n",
      "and ()\n",
      "NOW ()\n",
      "I ()\n",
      "am ()\n",
      "taking ()\n",
      "CIS ()\n",
      "120 ()\n"
     ]
    }
   ],
   "source": [
    "e = r'\\b\\w+\\b'\n",
    "s = \"I took CIS 110 and NOW I am taking CIS 120.\"\n",
    "for match in re.finditer(e,s):\n",
    "    print(match.group(), match.groups())"
   ]
  },
  {
   "cell_type": "code",
   "execution_count": 241,
   "metadata": {},
   "outputs": [
    {
     "name": "stdout",
     "output_type": "stream",
     "text": [
      "took ()\n",
      "CIS ()\n",
      "110 ()\n",
      "and ()\n",
      "NOW ()\n",
      "CIS ()\n",
      "120 ()\n"
     ]
    }
   ],
   "source": [
    "e = r'\\b\\w{3,5}\\b'\n",
    "s = \"I took CIS 110 and NOW I am taking CIS 120.\"\n",
    "for match in re.finditer(e,s):\n",
    "    print(match.group(), match.groups())"
   ]
  },
  {
   "cell_type": "code",
   "execution_count": 244,
   "metadata": {},
   "outputs": [
    {
     "name": "stdout",
     "output_type": "stream",
     "text": [
      "took ()\n",
      "CIS ()\n",
      "110 ()\n",
      "and ()\n",
      "NOW ()\n",
      "CIS ()\n",
      "120 ()\n",
      "wer_ ()\n"
     ]
    }
   ],
   "source": [
    "e = r'\\b\\w{3,5}\\b'\n",
    "s = \"I took CIS 110 and NOW I am taking CIS 120 wer_//.\"\n",
    "for match in re.finditer(e,s):\n",
    "    print(match.group(), match.groups())"
   ]
  },
  {
   "cell_type": "code",
   "execution_count": 246,
   "metadata": {},
   "outputs": [
    {
     "name": "stdout",
     "output_type": "stream",
     "text": [
      "took ()\n",
      "CIS ()\n",
      "110 ()\n",
      "and ()\n",
      "NOW ()\n",
      "CIS ()\n"
     ]
    }
   ],
   "source": [
    "e = r'\\b\\w{3,5}\\b'\n",
    "s = \"I took CIS 110 and NOW I am taking CIS 120wer_//.\"\n",
    "for match in re.finditer(e,s):\n",
    "    print(match.group(), match.groups())"
   ]
  },
  {
   "cell_type": "code",
   "execution_count": 250,
   "metadata": {},
   "outputs": [
    {
     "name": "stdout",
     "output_type": "stream",
     "text": [
      "took ()\n",
      "CIS ()\n",
      "110 ()\n",
      "and ()\n",
      "NOW ()\n",
      "CIS ()\n"
     ]
    }
   ],
   "source": [
    "e = r'\\b\\S{3,5}\\b'\n",
    "s = \"I took CIS 110 and NOW I am taking CIS 120wer_//.\"\n",
    "for match in re.finditer(e,s):\n",
    "    print(match.group(), match.groups())"
   ]
  },
  {
   "cell_type": "code",
   "execution_count": 261,
   "metadata": {},
   "outputs": [
    {
     "name": "stdout",
     "output_type": "stream",
     "text": [
      "Hello ()\n",
      "How ()\n",
      "are ()\n",
      "you ()\n",
      "Bye ()\n"
     ]
    }
   ],
   "source": [
    "e = r'\\b\\w+\\b'\n",
    "s = \"Hello! How are you? Bye.\"\n",
    "for match in re.finditer(e, s):\n",
    "    print(match.group(), match.groups())\n"
   ]
  },
  {
   "cell_type": "code",
   "execution_count": 281,
   "metadata": {},
   "outputs": [
    {
     "data": {
      "text/plain": [
       "'123 some text 123'"
      ]
     },
     "execution_count": 281,
     "metadata": {},
     "output_type": "execute_result"
    }
   ],
   "source": [
    "e = r'(\\d+).*\\1'                        #The \\1 here represents the repetition of (\\d+). Wherever the \\1 appears you\n",
    "s = \"123 some text 123 more.\"           #have the same string there. In this\n",
    "m = re.search(e, s)                     #case it is the 123 string.\n",
    "m.group()"
   ]
  },
  {
   "cell_type": "code",
   "execution_count": 290,
   "metadata": {},
   "outputs": [
    {
     "data": {
      "text/plain": [
       "'123 some text 123 more 123'"
      ]
     },
     "execution_count": 290,
     "metadata": {},
     "output_type": "execute_result"
    }
   ],
   "source": [
    "e = r'(\\d+).*\\1'                                #The \\1 here represents the repetition of (\\d+). Wherever the \\1 appears you\n",
    "s = \"123 some text 123 more 123 text.\"              #\n",
    "m = re.search(e, s)\n",
    "m.group(0)"
   ]
  },
  {
   "cell_type": "code",
   "execution_count": 291,
   "metadata": {},
   "outputs": [
    {
     "data": {
      "text/plain": [
       "'the the'"
      ]
     },
     "execution_count": 291,
     "metadata": {},
     "output_type": "execute_result"
    }
   ],
   "source": [
    "e = r'(\\b\\w+)\\s+\\1'                #This shows that the should repeat\n",
    "s = \"This is the the course.\"      #\n",
    "m = re.search(e, s)\n",
    "m.group()"
   ]
  },
  {
   "cell_type": "code",
   "execution_count": 293,
   "metadata": {},
   "outputs": [
    {
     "data": {
      "text/plain": [
       "<_sre.SRE_Match object; span=(0, 18), match='Hi Sara. Bye Sara.'>"
      ]
     },
     "execution_count": 293,
     "metadata": {},
     "output_type": "execute_result"
    }
   ],
   "source": [
    "e = r'Hi (?P<name>\\b\\w+). Bye (?P=name).'\n",
    "re.search(e, 'Hi Sara. Bye Sara.')"
   ]
  },
  {
   "cell_type": "code",
   "execution_count": 294,
   "metadata": {
    "collapsed": true
   },
   "outputs": [],
   "source": [
    "re.search(e, 'Hi Sara. Bye Susan.')"
   ]
  },
  {
   "cell_type": "code",
   "execution_count": 307,
   "metadata": {},
   "outputs": [
    {
     "data": {
      "text/plain": [
       "'(1+4) + (2+5) + (3+6)'"
      ]
     },
     "execution_count": 307,
     "metadata": {},
     "output_type": "execute_result"
    }
   ],
   "source": [
    "s = '(1+4) + (2+5) + (3+6)'\n",
    "e = r'\\(.*\\)'\n",
    "m = re.search(e, s)\n",
    "m.group()"
   ]
  },
  {
   "cell_type": "markdown",
   "metadata": {},
   "source": [
    "The \\ here refers to the point that the ( and ) are being used as a normal string character and dont have any regex importance as in they are not part of any equation."
   ]
  },
  {
   "cell_type": "code",
   "execution_count": 320,
   "metadata": {},
   "outputs": [
    {
     "data": {
      "text/plain": [
       "'(1+4) + (2+5) + (3+6)'"
      ]
     },
     "execution_count": 320,
     "metadata": {},
     "output_type": "execute_result"
    }
   ],
   "source": [
    "s = '(1+4) + (2+5) + (3+6)'\n",
    "e = r'\\(.*\\)'\n",
    "m = re.search(e, s)\n",
    "m.group()"
   ]
  },
  {
   "cell_type": "code",
   "execution_count": 331,
   "metadata": {},
   "outputs": [
    {
     "data": {
      "text/plain": [
       "'(1+4) + (2+5)  abhi'"
      ]
     },
     "execution_count": 331,
     "metadata": {},
     "output_type": "execute_result"
    }
   ],
   "source": [
    "s = '(1+4) + (2+5)  abhi'\n",
    "e = r'\\(.*\\)\\s.\\w*'\n",
    "m = re.search(e, s)\n",
    "m.group()"
   ]
  },
  {
   "cell_type": "code",
   "execution_count": null,
   "metadata": {
    "collapsed": true
   },
   "outputs": [],
   "source": []
  }
 ],
 "metadata": {
  "kernelspec": {
   "display_name": "Python 3",
   "language": "python",
   "name": "python3"
  },
  "language_info": {
   "codemirror_mode": {
    "name": "ipython",
    "version": 3
   },
   "file_extension": ".py",
   "mimetype": "text/x-python",
   "name": "python",
   "nbconvert_exporter": "python",
   "pygments_lexer": "ipython3",
   "version": "3.5.2"
  }
 },
 "nbformat": 4,
 "nbformat_minor": 1
}
