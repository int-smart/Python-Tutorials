{
 "cells": [
  {
   "cell_type": "markdown",
   "metadata": {},
   "source": [
    "# Classes"
   ]
  },
  {
   "cell_type": "markdown",
   "metadata": {},
   "source": [
    "### Object oriented Programming"
   ]
  },
  {
   "cell_type": "markdown",
   "metadata": {},
   "source": [
    "1. Everything in python is an object (and has a type).\n",
    "2. can create new objects of some type\n",
    "3. can manipulate objects\n",
    "4. can destroy objects\n",
    "    1. explicitly using del or just \"forget\" about them.\n",
    "    2. python system will reclaim destroyed or inaccessible objects - called \"garbage collection\" "
   ]
  },
  {
   "cell_type": "markdown",
   "metadata": {},
   "source": [
    "### Objects"
   ]
  },
  {
   "cell_type": "markdown",
   "metadata": {},
   "source": [
    "Objects are a data abstraction that captures:\n",
    "    1. an internal representation through data attributes\n",
    "    2. an interface for interacting with object\n",
    "        1. through methods (aka procedures/functions)\n",
    "        2. defines behaviors but hides implememntation\n",
    "         "
   ]
  },
  {
   "cell_type": "markdown",
   "metadata": {},
   "source": [
    "Lists in python are objects and are represented as linked lists. Manipulation is done using different methods on lists."
   ]
  },
  {
   "cell_type": "markdown",
   "metadata": {},
   "source": [
    "### Initialization of class "
   ]
  },
  {
   "cell_type": "markdown",
   "metadata": {},
   "source": [
    "In python you can create your own data type using classes. These would have an internal representation and methods to interact with them. The classes can be defined as follows:"
   ]
  },
  {
   "cell_type": "markdown",
   "metadata": {},
   "source": [
    "class Coordinate(object) \n",
    "\n",
    "Here class refers to declaring a class, Coordinate is the name/type of class, object refers to the class parent.\n",
    "object in the above definition means that Coordinate is a python object and inherits all its attributes.\n",
    "\n",
    "1. Coordinate is a subclass of object.\n",
    "2. object is a superclass of Coordinate.\n"
   ]
  },
  {
   "cell_type": "markdown",
   "metadata": {},
   "source": [
    "Classes have data and procedural attributes that are associated with them.\n",
    "\n",
    "1. Data attributes make up the class as a coordinate is made up of x and y coordinates.\n",
    "2. Procedural attributes or methods are functions that only work with this class. They help interacting with the class object. They can be visualized as calculating the difference between two coordinate points which would be two instances of the coordinate class.\n",
    "\n",
    "Python always passes self as the first argument for any class method. \n",
    "\n",
    "'.' operator is used to access any attribute of any class."
   ]
  },
  {
   "cell_type": "markdown",
   "metadata": {
    "collapsed": true
   },
   "source": [
    "Classes are defined as follows:"
   ]
  },
  {
   "cell_type": "code",
   "execution_count": 2,
   "metadata": {
    "collapsed": true
   },
   "outputs": [],
   "source": [
    "class Coordinate(object):      #x, y initializes the x and y variables of the instance \n",
    "    def __init__(self, x, y):  #self refers to that particular instance\n",
    "        self.x = x             #__init__ is  a special method to initialize the instance\n",
    "        self.y = y             #coordinate class has two data attributes x and y\n",
    "        "
   ]
  },
  {
   "cell_type": "markdown",
   "metadata": {},
   "source": [
    "Classes are initialized as follows:"
   ]
  },
  {
   "cell_type": "code",
   "execution_count": 3,
   "metadata": {
    "collapsed": true
   },
   "outputs": [],
   "source": [
    "coord = Coordinate(3,4)"
   ]
  },
  {
   "cell_type": "code",
   "execution_count": 4,
   "metadata": {},
   "outputs": [
    {
     "data": {
      "text/plain": [
       "3"
      ]
     },
     "execution_count": 4,
     "metadata": {},
     "output_type": "execute_result"
    }
   ],
   "source": [
    "coord.x"
   ]
  },
  {
   "cell_type": "code",
   "execution_count": 5,
   "metadata": {},
   "outputs": [
    {
     "data": {
      "text/plain": [
       "4"
      ]
     },
     "execution_count": 5,
     "metadata": {},
     "output_type": "execute_result"
    }
   ],
   "source": [
    "coord.y"
   ]
  },
  {
   "cell_type": "code",
   "execution_count": 6,
   "metadata": {
    "collapsed": true
   },
   "outputs": [],
   "source": [
    "center = Coordinate(0,0)"
   ]
  },
  {
   "cell_type": "code",
   "execution_count": 7,
   "metadata": {},
   "outputs": [
    {
     "data": {
      "text/plain": [
       "0"
      ]
     },
     "execution_count": 7,
     "metadata": {},
     "output_type": "execute_result"
    }
   ],
   "source": [
    "center.x"
   ]
  },
  {
   "cell_type": "code",
   "execution_count": 9,
   "metadata": {},
   "outputs": [
    {
     "data": {
      "text/plain": [
       "0"
      ]
     },
     "execution_count": 9,
     "metadata": {},
     "output_type": "execute_result"
    }
   ],
   "source": [
    "center.y"
   ]
  },
  {
   "cell_type": "code",
   "execution_count": 14,
   "metadata": {},
   "outputs": [
    {
     "data": {
      "text/plain": [
       "<__main__.Coordinate at 0x2dbc2206fd0>"
      ]
     },
     "execution_count": 14,
     "metadata": {},
     "output_type": "execute_result"
    }
   ],
   "source": [
    "Coordinate(3,0)"
   ]
  },
  {
   "cell_type": "code",
   "execution_count": 11,
   "metadata": {},
   "outputs": [
    {
     "name": "stdout",
     "output_type": "stream",
     "text": [
      "<__main__.Coordinate object at 0x000002DBC22A7320>\n"
     ]
    }
   ],
   "source": [
    "print(Coordinate(3,0))"
   ]
  },
  {
   "cell_type": "code",
   "execution_count": 15,
   "metadata": {
    "collapsed": true
   },
   "outputs": [],
   "source": [
    "class Coordinate(object):      \n",
    "    def __init__(self, x, y):  \n",
    "        self.x = x             \n",
    "        self.y = y  \n",
    "    def distance(self,other):             # self signifies that particular instance\n",
    "        x_diff_sq = (self.x-other.x)**2\n",
    "        y_diff_sq = (self.y-other.y)**2\n",
    "        return (x_diff_sq+y_diff_sq)**0.5"
   ]
  },
  {
   "cell_type": "code",
   "execution_count": 20,
   "metadata": {},
   "outputs": [
    {
     "name": "stdout",
     "output_type": "stream",
     "text": [
      "5.0\n",
      "5.0\n"
     ]
    }
   ],
   "source": [
    "c = Coordinate(3,4)\n",
    "center = Coordinate(0,0)\n",
    "print(center.distance(c))\n",
    "print(Coordinate.distance(center,c))"
   ]
  },
  {
   "cell_type": "markdown",
   "metadata": {},
   "source": [
    "When we print a class we get a very boring representation that tells us the class type and memory address. We can use the __str__ method to make printing classes much more useful. The str method should return a string that would be printed using the print statement which is bounding the class in such cases."
   ]
  },
  {
   "cell_type": "code",
   "execution_count": 66,
   "metadata": {},
   "outputs": [
    {
     "name": "stdout",
     "output_type": "stream",
     "text": [
      "3,4\n"
     ]
    }
   ],
   "source": [
    "class Coordinate(object):      \n",
    "    def __init__(self, x, y):  \n",
    "        self.x = x             \n",
    "        self.y = y  \n",
    "    def distance(self,other):             # self signifies that particular instance\n",
    "        x_diff_sq = (self.x-other.x)**2\n",
    "        y_diff_sq = (self.y-other.y)**2\n",
    "        return (x_diff_sq+y_diff_sq)**0.5\n",
    "    def __str__(self):\n",
    "        return str(self.x)+\",\"+str(self.y)\n",
    "    \n",
    "c = Coordinate(3,4)\n",
    "print(c)"
   ]
  },
  {
   "cell_type": "code",
   "execution_count": 67,
   "metadata": {},
   "outputs": [
    {
     "data": {
      "text/plain": [
       "True"
      ]
     },
     "execution_count": 67,
     "metadata": {},
     "output_type": "execute_result"
    }
   ],
   "source": [
    "isinstance(c, Coordinate)"
   ]
  },
  {
   "cell_type": "code",
   "execution_count": 37,
   "metadata": {},
   "outputs": [
    {
     "data": {
      "text/plain": [
       "True"
      ]
     },
     "execution_count": 37,
     "metadata": {},
     "output_type": "execute_result"
    }
   ],
   "source": [
    "isinstance(1, int)"
   ]
  },
  {
   "cell_type": "code",
   "execution_count": 38,
   "metadata": {},
   "outputs": [
    {
     "data": {
      "text/plain": [
       "True"
      ]
     },
     "execution_count": 38,
     "metadata": {},
     "output_type": "execute_result"
    }
   ],
   "source": [
    "isinstance('aed', str)"
   ]
  },
  {
   "cell_type": "code",
   "execution_count": 39,
   "metadata": {},
   "outputs": [
    {
     "data": {
      "text/plain": [
       "False"
      ]
     },
     "execution_count": 39,
     "metadata": {},
     "output_type": "execute_result"
    }
   ],
   "source": [
    "isinstance(1, float)"
   ]
  },
  {
   "cell_type": "code",
   "execution_count": 40,
   "metadata": {},
   "outputs": [
    {
     "data": {
      "text/plain": [
       "type"
      ]
     },
     "execution_count": 40,
     "metadata": {},
     "output_type": "execute_result"
    }
   ],
   "source": [
    "type(Coordinate)"
   ]
  },
  {
   "cell_type": "code",
   "execution_count": 43,
   "metadata": {},
   "outputs": [
    {
     "name": "stdout",
     "output_type": "stream",
     "text": [
      "3+i4\n"
     ]
    }
   ],
   "source": [
    "class Complex(object):      \n",
    "    def __init__(self, x, y):  \n",
    "        self.x = x             \n",
    "        self.y = y  \n",
    "    def __len__(self):             # self signifies that particular instance\n",
    "        x_sq = (self.x)**2\n",
    "        y_sq = (self.y)**2\n",
    "        return (x_sq+y_sq)**0.5\n",
    "    def __str__(self):\n",
    "        return str(self.x)+\"+i\"+str(self.y)\n",
    "    def __add__(self,other):\n",
    "        x_new = self.x+other.x\n",
    "        y_new = self.y+other.y\n",
    "        return Complex(x_new,y_new)\n",
    "    def __sub__(self,other):\n",
    "        x_new = self.x-other.x\n",
    "        y_new = self.y-other.y\n",
    "        return Complex(x_new,y_new)\n",
    "    def __eq__(self,other):\n",
    "        return ((self.x==other.x) and (self.y==other.y))\n",
    "    def __lt__(self,other):\n",
    "        return (self.x<other.x)\n",
    "    def sum_dig(self):\n",
    "        return (self.x+self.y)\n",
    "c = Complex(3,4)\n",
    "print(c)"
   ]
  },
  {
   "cell_type": "code",
   "execution_count": 44,
   "metadata": {},
   "outputs": [
    {
     "data": {
      "text/plain": [
       "<__main__.Complex at 0x2dbc22dd208>"
      ]
     },
     "execution_count": 44,
     "metadata": {},
     "output_type": "execute_result"
    }
   ],
   "source": [
    "c"
   ]
  },
  {
   "cell_type": "code",
   "execution_count": 51,
   "metadata": {
    "collapsed": true
   },
   "outputs": [],
   "source": [
    "d = Complex(1,0)"
   ]
  },
  {
   "cell_type": "code",
   "execution_count": 52,
   "metadata": {},
   "outputs": [],
   "source": [
    "e = Complex.__add__(c,d)"
   ]
  },
  {
   "cell_type": "code",
   "execution_count": 53,
   "metadata": {},
   "outputs": [
    {
     "name": "stdout",
     "output_type": "stream",
     "text": [
      "4+i4\n"
     ]
    }
   ],
   "source": [
    "print(e)"
   ]
  },
  {
   "cell_type": "code",
   "execution_count": 54,
   "metadata": {
    "collapsed": true
   },
   "outputs": [],
   "source": [
    "f = c.__add__(d)"
   ]
  },
  {
   "cell_type": "code",
   "execution_count": 56,
   "metadata": {},
   "outputs": [
    {
     "name": "stdout",
     "output_type": "stream",
     "text": [
      "4+i4\n"
     ]
    }
   ],
   "source": [
    "print(f)"
   ]
  },
  {
   "cell_type": "code",
   "execution_count": 58,
   "metadata": {},
   "outputs": [],
   "source": [
    "g = c+d"
   ]
  },
  {
   "cell_type": "code",
   "execution_count": 60,
   "metadata": {},
   "outputs": [
    {
     "name": "stdout",
     "output_type": "stream",
     "text": [
      "4+i4\n"
     ]
    }
   ],
   "source": [
    "print(g)"
   ]
  },
  {
   "cell_type": "code",
   "execution_count": 62,
   "metadata": {},
   "outputs": [
    {
     "data": {
      "text/plain": [
       "7"
      ]
     },
     "execution_count": 62,
     "metadata": {},
     "output_type": "execute_result"
    }
   ],
   "source": [
    "Complex.sum_dig(c)"
   ]
  },
  {
   "cell_type": "code",
   "execution_count": 63,
   "metadata": {},
   "outputs": [
    {
     "data": {
      "text/plain": [
       "7"
      ]
     },
     "execution_count": 63,
     "metadata": {},
     "output_type": "execute_result"
    }
   ],
   "source": [
    "c.sum_dig()"
   ]
  },
  {
   "cell_type": "code",
   "execution_count": 64,
   "metadata": {},
   "outputs": [
    {
     "data": {
      "text/plain": [
       "8"
      ]
     },
     "execution_count": 64,
     "metadata": {},
     "output_type": "execute_result"
    }
   ],
   "source": [
    "g.sum_dig()"
   ]
  },
  {
   "cell_type": "code",
   "execution_count": 65,
   "metadata": {},
   "outputs": [
    {
     "data": {
      "text/plain": [
       "<__main__.Complex at 0x2dbc22c40f0>"
      ]
     },
     "execution_count": 65,
     "metadata": {},
     "output_type": "execute_result"
    }
   ],
   "source": [
    "Complex.__add__(c,d)"
   ]
  },
  {
   "cell_type": "markdown",
   "metadata": {},
   "source": [
    "The class is created or defined using the class keyword. However it is instanciated using a syntax as \"c = Complex(0,0)\". The 'c' object created is one instance of the class of type 'Coordinate'. The definition of the class defines the structure that is common to all the class instances. However the value of these individual instance variables vary from instance to instance.  "
   ]
  },
  {
   "cell_type": "markdown",
   "metadata": {},
   "source": [
    "## Inheritance "
   ]
  },
  {
   "cell_type": "markdown",
   "metadata": {},
   "source": [
    "Inheritance is the grouping of objects that share common data attributes and methods. The class from which another class inherits from is called the parent class and the class which inherits is called the child class. Take for example the following parent class:"
   ]
  },
  {
   "cell_type": "code",
   "execution_count": 68,
   "metadata": {
    "collapsed": true
   },
   "outputs": [],
   "source": [
    "class Animal(object):\n",
    "    def __init__(self,age):\n",
    "        self.age = age\n",
    "        self.name = None\n",
    "myanimal = Animal(3)"
   ]
  },
  {
   "cell_type": "markdown",
   "metadata": {},
   "source": [
    "### Getter and setter methods"
   ]
  },
  {
   "cell_type": "code",
   "execution_count": 71,
   "metadata": {},
   "outputs": [
    {
     "data": {
      "text/plain": [
       "3"
      ]
     },
     "execution_count": 71,
     "metadata": {},
     "output_type": "execute_result"
    }
   ],
   "source": [
    "class Animal(object):             #class object implements basic\n",
    "    def __init__(self,age):       #operations in Python like\n",
    "        self.age = age            #binding variables etc\n",
    "        self.name = None\n",
    "    def get_age(self):\n",
    "        return self.age\n",
    "    def get_name(self):\n",
    "        return self.name\n",
    "    def set_age(self,newage):\n",
    "        self.age = newage\n",
    "    def set_name(self, newname=\"\"):   #newname=\"\" denotes the default parameter\n",
    "        self.name = newname\n",
    "    def __str__(self):\n",
    "        return \"animal\"+str(self.name)+\":\"+str(self.age)\n",
    "myanimal = Animal(3)\n",
    "myanimal.age              #should use this inside the class\n",
    "myanimal.get_age()        #better to use this outside of the class"
   ]
  },
  {
   "cell_type": "markdown",
   "metadata": {},
   "source": [
    "### Subclass:"
   ]
  },
  {
   "cell_type": "code",
   "execution_count": 76,
   "metadata": {
    "collapsed": true
   },
   "outputs": [],
   "source": [
    "class Cat(Animal):\n",
    "    def speak(self):\n",
    "        print(\"meow\")\n",
    "    def __str__(self):\n",
    "        return \"cat:\"+str(self.name)+\":\"+str(self.age)"
   ]
  },
  {
   "cell_type": "code",
   "execution_count": 77,
   "metadata": {
    "collapsed": true
   },
   "outputs": [],
   "source": [
    "c = Cat(3) "
   ]
  },
  {
   "cell_type": "code",
   "execution_count": 78,
   "metadata": {
    "collapsed": true
   },
   "outputs": [],
   "source": [
    "c.set_name(\"Lyla\")"
   ]
  },
  {
   "cell_type": "code",
   "execution_count": 79,
   "metadata": {},
   "outputs": [
    {
     "name": "stdout",
     "output_type": "stream",
     "text": [
      "cat:Lyla:3\n"
     ]
    }
   ],
   "source": [
    "print(c)"
   ]
  },
  {
   "cell_type": "markdown",
   "metadata": {},
   "source": [
    "If a method is present in the subclass that is present in the parent class it overrides the parent class method. If the method is not present in the subclass the method is looked for in the parent classes."
   ]
  },
  {
   "cell_type": "code",
   "execution_count": 80,
   "metadata": {
    "collapsed": true
   },
   "outputs": [],
   "source": [
    "class Person(Animal):\n",
    "    def __init__(self, name, age):\n",
    "        Animal.__init__(self,age)\n",
    "        self.set_name(name)\n",
    "        self.friends = []\n",
    "    def get_friends(self):\n",
    "        return self.friends\n",
    "    def add_friend(self,fname):\n",
    "        if fname not in self.friends:\n",
    "            self.friends.append(fname)\n",
    "    def speak(self):\n",
    "        print(\"hello\")\n",
    "    def age_diff(self,other):\n",
    "        diff = self.age-other.age\n",
    "        print(abs(diff), \"year difference\")\n",
    "    def __str__(self):\n",
    "        return \"person:\"+str(self.name)+\":\"+str(self.age)"
   ]
  },
  {
   "cell_type": "code",
   "execution_count": 81,
   "metadata": {
    "collapsed": true
   },
   "outputs": [],
   "source": [
    "import random\n",
    "class Student(Person):\n",
    "    def __init__(self, name, age, major=None):\n",
    "        Person.__init__(self,name,age)\n",
    "        self.major = major\n",
    "    def change_major(self,major):\n",
    "        self.major = major\n",
    "    def speak(self):\n",
    "        r = random.random()\n",
    "        if r<0.25:\n",
    "            print(\"I have homework\")\n",
    "        elif 0.25 <=r < 0.5:\n",
    "            print(\"I need sleep\")\n",
    "        elif 0.5 <= r < 0.75:\n",
    "            print(\"I should eat\")\n",
    "        else:\n",
    "            print(\"I am watching TV\")\n",
    "    def __str__(self):\n",
    "        return \"Student:\"+str(self.name)+\":\"+str(self.age)+\":\"+str(self.major)\n"
   ]
  },
  {
   "cell_type": "markdown",
   "metadata": {},
   "source": [
    "Class variables are different from instance variables. Class variables are shared among all instances of the class. The value of class variables are same accross all instances of the class. The instance variables however have different values for different instances."
   ]
  },
  {
   "cell_type": "code",
   "execution_count": 1,
   "metadata": {},
   "outputs": [
    {
     "ename": "NameError",
     "evalue": "name 'Animal' is not defined",
     "output_type": "error",
     "traceback": [
      "\u001b[1;31m---------------------------------------------------------------------------\u001b[0m",
      "\u001b[1;31mNameError\u001b[0m                                 Traceback (most recent call last)",
      "\u001b[1;32m<ipython-input-1-7a7600449287>\u001b[0m in \u001b[0;36m<module>\u001b[1;34m()\u001b[0m\n\u001b[1;32m----> 1\u001b[1;33m \u001b[1;32mclass\u001b[0m \u001b[0mRabbit\u001b[0m\u001b[1;33m(\u001b[0m\u001b[0mAnimal\u001b[0m\u001b[1;33m)\u001b[0m\u001b[1;33m:\u001b[0m\u001b[1;33m\u001b[0m\u001b[0m\n\u001b[0m\u001b[0;32m      2\u001b[0m     \u001b[0mtag\u001b[0m \u001b[1;33m=\u001b[0m \u001b[1;36m1\u001b[0m\u001b[1;33m\u001b[0m\u001b[0m\n\u001b[0;32m      3\u001b[0m     \u001b[1;32mdef\u001b[0m \u001b[0m__init__\u001b[0m\u001b[1;33m(\u001b[0m\u001b[0mself\u001b[0m\u001b[1;33m,\u001b[0m\u001b[0mage\u001b[0m\u001b[1;33m,\u001b[0m\u001b[0mparent1\u001b[0m\u001b[1;33m=\u001b[0m\u001b[1;32mNone\u001b[0m\u001b[1;33m,\u001b[0m\u001b[0mparent2\u001b[0m\u001b[1;33m=\u001b[0m\u001b[1;32mNone\u001b[0m\u001b[1;33m)\u001b[0m\u001b[1;33m:\u001b[0m\u001b[1;33m\u001b[0m\u001b[0m\n\u001b[0;32m      4\u001b[0m         \u001b[0mAnimal\u001b[0m\u001b[1;33m.\u001b[0m\u001b[0m__init__\u001b[0m\u001b[1;33m(\u001b[0m\u001b[0mself\u001b[0m\u001b[1;33m,\u001b[0m\u001b[0mage\u001b[0m\u001b[1;33m)\u001b[0m\u001b[1;33m\u001b[0m\u001b[0m\n\u001b[0;32m      5\u001b[0m         \u001b[0mself\u001b[0m\u001b[1;33m.\u001b[0m\u001b[0mparent1\u001b[0m \u001b[1;33m=\u001b[0m \u001b[0mparent1\u001b[0m\u001b[1;33m\u001b[0m\u001b[0m\n",
      "\u001b[1;31mNameError\u001b[0m: name 'Animal' is not defined"
     ]
    }
   ],
   "source": [
    "class Rabbit(Animal):\n",
    "    tag = 1\n",
    "    def __init__(self,age,parent1=None,parent2=None):\n",
    "        Animal.__init__(self,age)\n",
    "        self.parent1 = parent1\n",
    "        self.parent2 = parent2\n",
    "        self.rid = Rabbit.tag\n",
    "        Rabbit.tag += 1\n",
    "    def get_rid(self):\n",
    "        return str(self.rid).zfill(3)\n",
    "    def get_parent1(self):\n",
    "        return self.parent1\n",
    "    def get_parent2(self):\n",
    "        return self.parent2"
   ]
  },
  {
   "cell_type": "code",
   "execution_count": 2,
   "metadata": {
    "collapsed": true
   },
   "outputs": [],
   "source": [
    "class Triple:\n",
    "    count = 0\n",
    "    def __init__(self,x,y,z):\n",
    "        self.x = x\n",
    "        self.y = y\n",
    "        self.z = z\n",
    "        Triple.count += 1\n",
    "    def show():\n",
    "        print(x,y,z)"
   ]
  },
  {
   "cell_type": "code",
   "execution_count": 65,
   "metadata": {},
   "outputs": [],
   "source": [
    "class Shape(object):\n",
    "    def __init__(self,name):\n",
    "        self.name = name\n",
    "    def get_corners(self):\n",
    "        if self.name == 'Circle':\n",
    "            return 0\n",
    "        elif self.name == \"Square\" or \"Rectangle\" or \"Paralleleogram\" or \"Rhombus\":\n",
    "            return 4\n",
    "        elif self.name == \"Line\":\n",
    "            return 2\n",
    "        elif self.name == \"Triangle\":\n",
    "            return 3\n",
    "        elif self.name == \"Point\":\n",
    "            return 1\n",
    "        else:\n",
    "            return 5\n",
    "\n",
    "class Circle(Shape):\n",
    "    def __init__(self, radius):\n",
    "        super().__init__(self)\n",
    "        self.cnt = 3.14\n",
    "        self.radius = radius\n",
    "    def area(self):\n",
    "        return self.cnt*(self.radius**2)\n",
    "    def circumference(self):\n",
    "        return 2*self.cnt*self.radius\n",
    "    def area_of_sector(self, angle):\n",
    "        return (angle/360.0)*self.area()\n",
    "    def __str__(self):\n",
    "        return \"I am a circle with radius \"+str(self.radius)\n",
    "    def intersecting_area(self, other):                     #The whole purpose of this line is that the class instances\n",
    "        print(self.radius-other.radius)                     #can be passed as function arguments and used as usual. "
   ]
  },
  {
   "cell_type": "markdown",
   "metadata": {},
   "source": [
    "The way of accessing a class and its instances"
   ]
  },
  {
   "cell_type": "code",
   "execution_count": 79,
   "metadata": {
    "collapsed": true
   },
   "outputs": [],
   "source": [
    "s = Shape(\"Circle\")"
   ]
  },
  {
   "cell_type": "code",
   "execution_count": 80,
   "metadata": {},
   "outputs": [
    {
     "data": {
      "text/plain": [
       "'Circle'"
      ]
     },
     "execution_count": 80,
     "metadata": {},
     "output_type": "execute_result"
    }
   ],
   "source": [
    "s.name"
   ]
  },
  {
   "cell_type": "code",
   "execution_count": 81,
   "metadata": {},
   "outputs": [
    {
     "data": {
      "text/plain": [
       "0"
      ]
     },
     "execution_count": 81,
     "metadata": {},
     "output_type": "execute_result"
    }
   ],
   "source": [
    "Shape.get_corners(s)"
   ]
  },
  {
   "cell_type": "code",
   "execution_count": 82,
   "metadata": {},
   "outputs": [
    {
     "data": {
      "text/plain": [
       "0"
      ]
     },
     "execution_count": 82,
     "metadata": {},
     "output_type": "execute_result"
    }
   ],
   "source": [
    "s.get_corners()"
   ]
  },
  {
   "cell_type": "code",
   "execution_count": 83,
   "metadata": {},
   "outputs": [],
   "source": [
    "c1 = Circle(3)"
   ]
  },
  {
   "cell_type": "code",
   "execution_count": 71,
   "metadata": {},
   "outputs": [
    {
     "data": {
      "text/plain": [
       "28.26"
      ]
     },
     "execution_count": 71,
     "metadata": {},
     "output_type": "execute_result"
    }
   ],
   "source": [
    "c1.area()"
   ]
  },
  {
   "cell_type": "code",
   "execution_count": 72,
   "metadata": {},
   "outputs": [
    {
     "data": {
      "text/plain": [
       "18.84"
      ]
     },
     "execution_count": 72,
     "metadata": {},
     "output_type": "execute_result"
    }
   ],
   "source": [
    "c1.circumference()"
   ]
  },
  {
   "cell_type": "code",
   "execution_count": 73,
   "metadata": {},
   "outputs": [
    {
     "name": "stdout",
     "output_type": "stream",
     "text": [
      "I am a circle with radius 3\n"
     ]
    }
   ],
   "source": [
    "print(c1)"
   ]
  },
  {
   "cell_type": "code",
   "execution_count": 74,
   "metadata": {},
   "outputs": [
    {
     "data": {
      "text/plain": [
       "14.13"
      ]
     },
     "execution_count": 74,
     "metadata": {},
     "output_type": "execute_result"
    }
   ],
   "source": [
    "c1.area_of_sector(180)"
   ]
  },
  {
   "cell_type": "code",
   "execution_count": 75,
   "metadata": {
    "collapsed": true
   },
   "outputs": [],
   "source": [
    "c2 = Circle(4)"
   ]
  },
  {
   "cell_type": "markdown",
   "metadata": {},
   "source": [
    "The following code shows the use of two class instances in one function of a class and two ways to use them."
   ]
  },
  {
   "cell_type": "code",
   "execution_count": 84,
   "metadata": {},
   "outputs": [
    {
     "name": "stdout",
     "output_type": "stream",
     "text": [
      "1\n"
     ]
    }
   ],
   "source": [
    "c2.intersecting_area(c1)"
   ]
  },
  {
   "cell_type": "code",
   "execution_count": 85,
   "metadata": {},
   "outputs": [
    {
     "name": "stdout",
     "output_type": "stream",
     "text": [
      "1\n"
     ]
    }
   ],
   "source": [
    "Circle.intersecting_area(c2,c1)"
   ]
  },
  {
   "cell_type": "code",
   "execution_count": 86,
   "metadata": {},
   "outputs": [
    {
     "name": "stdout",
     "output_type": "stream",
     "text": [
      "-1\n"
     ]
    }
   ],
   "source": [
    "Circle.intersecting_area(c1,c2)"
   ]
  },
  {
   "cell_type": "markdown",
   "metadata": {},
   "source": [
    "The below code is for multiple inheritance which can be seen as an exercise. Its the samejust with two different parent classes like Square is a shape and parallelogram, so it inherits from both of them."
   ]
  },
  {
   "cell_type": "code",
   "execution_count": 106,
   "metadata": {},
   "outputs": [],
   "source": [
    "class Shape(object):\n",
    "    def __init__(self,name):\n",
    "        self.name = name\n",
    "    def get_corners(self):\n",
    "        if self.name == 'Circle':\n",
    "            return 0\n",
    "        elif self.name == \"Square\" or \"Rectangle\" or \"Paralleleogram\" or \"Rhombus\":\n",
    "            return 4\n",
    "        elif self.name == \"Line\":\n",
    "            return 2\n",
    "        elif self.name == \"Triangle\":\n",
    "            return 3\n",
    "        elif self.name == \"Point\":\n",
    "            return 1\n",
    "        else:\n",
    "            return 5\n",
    "\n",
    "class Circle(Shape):\n",
    "    def __init__(self, radius):\n",
    "        super().__init__(self)\n",
    "        self.cnt = 3.14\n",
    "        self.radius = radius\n",
    "    def area(self):\n",
    "        return self.cnt*(self.radius**2)\n",
    "    def circumference(self):\n",
    "        return 2*self.cnt*self.radius\n",
    "    def area_of_sector(self, angle):\n",
    "        return (angle/360.0)*self.area()\n",
    "    def __str__(self):\n",
    "        return \"I am a circle with radius \"+str(self.radius)\n",
    "    def intersecting_area(self, other):                     #The whole purpose of this line is that the class instances\n",
    "        print(self.radius-other.radius)                     #can be passed as function arguments and used as usual.\n",
    "\n",
    "class Parallelogram():\n",
    "    def __init__(self, base, height):\n",
    "        self.cnt = 1\n",
    "        self.base = base\n",
    "        self.height = height\n",
    "    def area(self):\n",
    "        return self.cnt*(self.base*self.height)\n",
    "    def perimeter(self):\n",
    "        return 2*(self.base+self.height)\n",
    "\n",
    "class Sqaure(Shape, Parallelogram):\n",
    "    def __init__(self,other):\n",
    "        super().__init__(self)\n",
    "        self.cnt = 1\n",
    "        self.side = other.height\n",
    "    def area(self):\n",
    "        return self.cnt*(self.side*self.side)"
   ]
  },
  {
   "cell_type": "code",
   "execution_count": 107,
   "metadata": {
    "collapsed": true
   },
   "outputs": [],
   "source": [
    "p1 = Parallelogram(2,3)"
   ]
  },
  {
   "cell_type": "code",
   "execution_count": 108,
   "metadata": {},
   "outputs": [],
   "source": [
    "s1 = Sqaure(p1)"
   ]
  },
  {
   "cell_type": "code",
   "execution_count": 109,
   "metadata": {},
   "outputs": [
    {
     "data": {
      "text/plain": [
       "9"
      ]
     },
     "execution_count": 109,
     "metadata": {},
     "output_type": "execute_result"
    }
   ],
   "source": [
    "s1.area()"
   ]
  },
  {
   "cell_type": "code",
   "execution_count": 111,
   "metadata": {},
   "outputs": [
    {
     "ename": "AttributeError",
     "evalue": "'Sqaure' object has no attribute 'base'",
     "output_type": "error",
     "traceback": [
      "\u001b[1;31m---------------------------------------------------------------------------\u001b[0m",
      "\u001b[1;31mAttributeError\u001b[0m                            Traceback (most recent call last)",
      "\u001b[1;32m<ipython-input-111-f384e52bc701>\u001b[0m in \u001b[0;36m<module>\u001b[1;34m()\u001b[0m\n\u001b[1;32m----> 1\u001b[1;33m \u001b[0ms1\u001b[0m\u001b[1;33m.\u001b[0m\u001b[0mperimeter\u001b[0m\u001b[1;33m(\u001b[0m\u001b[1;33m)\u001b[0m\u001b[1;33m\u001b[0m\u001b[0m\n\u001b[0m",
      "\u001b[1;32m<ipython-input-106-5d01c484e34b>\u001b[0m in \u001b[0;36mperimeter\u001b[1;34m(self)\u001b[0m\n\u001b[0;32m     40\u001b[0m         \u001b[1;32mreturn\u001b[0m \u001b[0mself\u001b[0m\u001b[1;33m.\u001b[0m\u001b[0mcnt\u001b[0m\u001b[1;33m*\u001b[0m\u001b[1;33m(\u001b[0m\u001b[0mself\u001b[0m\u001b[1;33m.\u001b[0m\u001b[0mbase\u001b[0m\u001b[1;33m*\u001b[0m\u001b[0mself\u001b[0m\u001b[1;33m.\u001b[0m\u001b[0mheight\u001b[0m\u001b[1;33m)\u001b[0m\u001b[1;33m\u001b[0m\u001b[0m\n\u001b[0;32m     41\u001b[0m     \u001b[1;32mdef\u001b[0m \u001b[0mperimeter\u001b[0m\u001b[1;33m(\u001b[0m\u001b[0mself\u001b[0m\u001b[1;33m)\u001b[0m\u001b[1;33m:\u001b[0m\u001b[1;33m\u001b[0m\u001b[0m\n\u001b[1;32m---> 42\u001b[1;33m         \u001b[1;32mreturn\u001b[0m \u001b[1;36m2\u001b[0m\u001b[1;33m*\u001b[0m\u001b[1;33m(\u001b[0m\u001b[0mself\u001b[0m\u001b[1;33m.\u001b[0m\u001b[0mbase\u001b[0m\u001b[1;33m+\u001b[0m\u001b[0mself\u001b[0m\u001b[1;33m.\u001b[0m\u001b[0mheight\u001b[0m\u001b[1;33m)\u001b[0m\u001b[1;33m\u001b[0m\u001b[0m\n\u001b[0m\u001b[0;32m     43\u001b[0m \u001b[1;33m\u001b[0m\u001b[0m\n\u001b[0;32m     44\u001b[0m \u001b[1;32mclass\u001b[0m \u001b[0mSqaure\u001b[0m\u001b[1;33m(\u001b[0m\u001b[0mShape\u001b[0m\u001b[1;33m,\u001b[0m \u001b[0mParallelogram\u001b[0m\u001b[1;33m)\u001b[0m\u001b[1;33m:\u001b[0m\u001b[1;33m\u001b[0m\u001b[0m\n",
      "\u001b[1;31mAttributeError\u001b[0m: 'Sqaure' object has no attribute 'base'"
     ]
    }
   ],
   "source": [
    "s1.perimeter()"
   ]
  },
  {
   "cell_type": "code",
   "execution_count": null,
   "metadata": {
    "collapsed": true
   },
   "outputs": [],
   "source": []
  },
  {
   "cell_type": "markdown",
   "metadata": {},
   "source": [
    "This is the end of the multiple inheritance tutorials. "
   ]
  },
  {
   "cell_type": "code",
   "execution_count": 135,
   "metadata": {
    "collapsed": true
   },
   "outputs": [],
   "source": [
    "class Top:\n",
    "    def show(self):\n",
    "        print(\"Top!\")\n",
    "\n",
    "    def spin(self):\n",
    "        print(\"Top is spinning\")\n",
    "\n",
    "class Left(Top):\n",
    "    def show(self):\n",
    "        print(\"Left!\")\n",
    "\n",
    "    def leave(self):\n",
    "        print(\"Left is leaving\")\n",
    "\n",
    "class Right(Top):\n",
    "    def show(self):\n",
    "        print(\"Right!\")\n",
    "\n",
    "    def write(self):\n",
    "        print(\"Right is writing\")\n",
    "\n",
    "class Bottom(Left, Right):\n",
    "    # def show(self):\n",
    "    #     print(\"Bottom!\")\n",
    "    __bottom = \"I am the kinda private\"\n",
    "    def up(self):\n",
    "        print(\"Cheers!\")        \n",
    "\n",
    "#           TOP\n",
    "#          /   \\\n",
    "#         /     \\\n",
    "#       LEFT   RIGHT\n",
    "#         \\      /\n",
    "#          \\    /\n",
    "#          BOTTOM"
   ]
  },
  {
   "cell_type": "code",
   "execution_count": 136,
   "metadata": {},
   "outputs": [
    {
     "name": "stdout",
     "output_type": "stream",
     "text": [
      "Cheers!\n",
      "Right is writing\n",
      "Left is leaving\n",
      "Top is spinning\n",
      "Left!\n",
      "Left!\n",
      "Right!\n",
      "Top!\n",
      "Left!\n",
      "I am the kinda private\n"
     ]
    }
   ],
   "source": [
    "b = Bottom()\n",
    "b.up()     #Cheers!\n",
    "b.write()   #Right is writing\n",
    "b.leave()    #Left is leaving\n",
    "b.spin()    #Top is spinning\n",
    "b.show()    #Left!\n",
    "\n",
    "Left.show(b)  #Left!\n",
    "Right.show(b)  #Right!\n",
    "Top.show(b)    #Top!\n",
    "super(Bottom, b).show()   #Left!\n",
    "#print(b._Bottom__bottom)"
   ]
  },
  {
   "cell_type": "code",
   "execution_count": 139,
   "metadata": {},
   "outputs": [
    {
     "data": {
      "text/plain": [
       "['_Bottom__bottom',\n",
       " '__class__',\n",
       " '__delattr__',\n",
       " '__dict__',\n",
       " '__dir__',\n",
       " '__doc__',\n",
       " '__eq__',\n",
       " '__format__',\n",
       " '__ge__',\n",
       " '__getattribute__',\n",
       " '__gt__',\n",
       " '__hash__',\n",
       " '__init__',\n",
       " '__le__',\n",
       " '__lt__',\n",
       " '__module__',\n",
       " '__ne__',\n",
       " '__new__',\n",
       " '__reduce__',\n",
       " '__reduce_ex__',\n",
       " '__repr__',\n",
       " '__setattr__',\n",
       " '__sizeof__',\n",
       " '__str__',\n",
       " '__subclasshook__',\n",
       " '__weakref__',\n",
       " 'leave',\n",
       " 'show',\n",
       " 'spin',\n",
       " 'up',\n",
       " 'write']"
      ]
     },
     "execution_count": 139,
     "metadata": {},
     "output_type": "execute_result"
    }
   ],
   "source": [
    "dir(b)"
   ]
  },
  {
   "cell_type": "markdown",
   "metadata": {},
   "source": [
    "This is the end of the multiple inheritance tutorials. "
   ]
  },
  {
   "cell_type": "markdown",
   "metadata": {},
   "source": [
    "The below code shows sort of private attributes. Python does not allow private attributes. You can just do name mangling as in changing the name of the variable outside the class as in outside the class the name of that variable would be different from what it is in the class. The name inside the class is the normal name. Outside the class the name would include a underscore followed by the name of the class and then the variables name which itself is declared using the two underscores before the actual name of the class variable for name mangling. The variables with a leading underscore is the one which we dont want the user to ask the value of even though it can be normally accessed. Such variables are however not imported using statements like from shutils import *."
   ]
  },
  {
   "cell_type": "code",
   "execution_count": 140,
   "metadata": {},
   "outputs": [],
   "source": [
    "class Secret(object):\n",
    "    _bad_secret = 'I am Abhishek Thakur'\n",
    "    __good_secret = 'I am a student at the University of Michigan'\n",
    "    \n",
    "    def __init__(self):\n",
    "        self._local_bad_secret = 'I am studying python'\n",
    "        self.__local_good_secret = 'I am studying C++'\n",
    "    def _tell(self):\n",
    "        return self._local_bad_secret\n",
    "    def __no_tell(self):\n",
    "        return self.__local_good_secret\n",
    "    def reveal(self):\n",
    "        return self.__local_good_secret\n",
    "\n",
    "s = Secret()\n",
    "#s._bad_secret\n",
    "#s.__good_secret\n",
    "\n",
    "#s._Secret__good_secret\n",
    "\n",
    "#s._tell()\n",
    "#s._Secret__no_tell()\n",
    "\n",
    "#s.reveal()"
   ]
  },
  {
   "cell_type": "code",
   "execution_count": 141,
   "metadata": {},
   "outputs": [
    {
     "data": {
      "text/plain": [
       "['_Secret__good_secret',\n",
       " '_Secret__local_good_secret',\n",
       " '_Secret__no_tell',\n",
       " '__class__',\n",
       " '__delattr__',\n",
       " '__dict__',\n",
       " '__dir__',\n",
       " '__doc__',\n",
       " '__eq__',\n",
       " '__format__',\n",
       " '__ge__',\n",
       " '__getattribute__',\n",
       " '__gt__',\n",
       " '__hash__',\n",
       " '__init__',\n",
       " '__le__',\n",
       " '__lt__',\n",
       " '__module__',\n",
       " '__ne__',\n",
       " '__new__',\n",
       " '__reduce__',\n",
       " '__reduce_ex__',\n",
       " '__repr__',\n",
       " '__setattr__',\n",
       " '__sizeof__',\n",
       " '__str__',\n",
       " '__subclasshook__',\n",
       " '__weakref__',\n",
       " '_bad_secret',\n",
       " '_local_bad_secret',\n",
       " '_tell',\n",
       " 'reveal']"
      ]
     },
     "execution_count": 141,
     "metadata": {},
     "output_type": "execute_result"
    }
   ],
   "source": [
    "dir(s)"
   ]
  },
  {
   "cell_type": "code",
   "execution_count": 122,
   "metadata": {},
   "outputs": [
    {
     "data": {
      "text/plain": [
       "'I am Abhishek Thakur'"
      ]
     },
     "execution_count": 122,
     "metadata": {},
     "output_type": "execute_result"
    }
   ],
   "source": [
    "s._bad_secret"
   ]
  },
  {
   "cell_type": "code",
   "execution_count": 123,
   "metadata": {},
   "outputs": [
    {
     "ename": "AttributeError",
     "evalue": "'Secret' object has no attribute '__good_secret'",
     "output_type": "error",
     "traceback": [
      "\u001b[1;31m---------------------------------------------------------------------------\u001b[0m",
      "\u001b[1;31mAttributeError\u001b[0m                            Traceback (most recent call last)",
      "\u001b[1;32m<ipython-input-123-4b7fdfe25fd1>\u001b[0m in \u001b[0;36m<module>\u001b[1;34m()\u001b[0m\n\u001b[1;32m----> 1\u001b[1;33m \u001b[0ms\u001b[0m\u001b[1;33m.\u001b[0m\u001b[0m__good_secret\u001b[0m\u001b[1;33m\u001b[0m\u001b[0m\n\u001b[0m",
      "\u001b[1;31mAttributeError\u001b[0m: 'Secret' object has no attribute '__good_secret'"
     ]
    }
   ],
   "source": [
    "s.__good_secret"
   ]
  },
  {
   "cell_type": "code",
   "execution_count": 124,
   "metadata": {},
   "outputs": [
    {
     "data": {
      "text/plain": [
       "'I am a student at the University of Michigan'"
      ]
     },
     "execution_count": 124,
     "metadata": {},
     "output_type": "execute_result"
    }
   ],
   "source": [
    "s._Secret__good_secret   # this is not  a"
   ]
  },
  {
   "cell_type": "code",
   "execution_count": 125,
   "metadata": {},
   "outputs": [
    {
     "data": {
      "text/plain": [
       "'I am studying python'"
      ]
     },
     "execution_count": 125,
     "metadata": {},
     "output_type": "execute_result"
    }
   ],
   "source": [
    "s._tell()"
   ]
  },
  {
   "cell_type": "code",
   "execution_count": 126,
   "metadata": {},
   "outputs": [
    {
     "data": {
      "text/plain": [
       "'I am studying C++'"
      ]
     },
     "execution_count": 126,
     "metadata": {},
     "output_type": "execute_result"
    }
   ],
   "source": [
    "s._Secret__no_tell()"
   ]
  },
  {
   "cell_type": "code",
   "execution_count": 127,
   "metadata": {},
   "outputs": [
    {
     "data": {
      "text/plain": [
       "'I am studying C++'"
      ]
     },
     "execution_count": 127,
     "metadata": {},
     "output_type": "execute_result"
    }
   ],
   "source": [
    "s.reveal()"
   ]
  },
  {
   "cell_type": "markdown",
   "metadata": {},
   "source": [
    "Magic methods:"
   ]
  },
  {
   "cell_type": "code",
   "execution_count": 143,
   "metadata": {},
   "outputs": [
    {
     "data": {
      "text/plain": [
       "type"
      ]
     },
     "execution_count": 143,
     "metadata": {},
     "output_type": "execute_result"
    }
   ],
   "source": [
    "type(Triple)"
   ]
  },
  {
   "cell_type": "code",
   "execution_count": 144,
   "metadata": {},
   "outputs": [
    {
     "name": "stdout",
     "output_type": "stream",
     "text": [
      "<class '__main__.Triple'>\n"
     ]
    }
   ],
   "source": [
    "print(Triple)"
   ]
  },
  {
   "cell_type": "code",
   "execution_count": 145,
   "metadata": {},
   "outputs": [
    {
     "data": {
      "text/plain": [
       "__main__.Triple"
      ]
     },
     "execution_count": 145,
     "metadata": {},
     "output_type": "execute_result"
    }
   ],
   "source": [
    "Triple"
   ]
  },
  {
   "cell_type": "code",
   "execution_count": 146,
   "metadata": {},
   "outputs": [
    {
     "data": {
      "text/plain": [
       "['__class__',\n",
       " '__delattr__',\n",
       " '__dict__',\n",
       " '__dir__',\n",
       " '__doc__',\n",
       " '__eq__',\n",
       " '__format__',\n",
       " '__ge__',\n",
       " '__getattribute__',\n",
       " '__gt__',\n",
       " '__hash__',\n",
       " '__init__',\n",
       " '__le__',\n",
       " '__lt__',\n",
       " '__module__',\n",
       " '__ne__',\n",
       " '__new__',\n",
       " '__reduce__',\n",
       " '__reduce_ex__',\n",
       " '__repr__',\n",
       " '__setattr__',\n",
       " '__sizeof__',\n",
       " '__str__',\n",
       " '__subclasshook__',\n",
       " '__weakref__',\n",
       " 'count',\n",
       " 'show']"
      ]
     },
     "execution_count": 146,
     "metadata": {},
     "output_type": "execute_result"
    }
   ],
   "source": [
    "dir(Triple)"
   ]
  },
  {
   "cell_type": "code",
   "execution_count": 3,
   "metadata": {},
   "outputs": [],
   "source": [
    "class Triple:\n",
    "    pass"
   ]
  },
  {
   "cell_type": "code",
   "execution_count": 4,
   "metadata": {
    "collapsed": true
   },
   "outputs": [],
   "source": [
    "class Coordinate(Triple):\n",
    "    def __init__(self,x,y,z):\n",
    "        super().__init__(x,y,z)"
   ]
  },
  {
   "cell_type": "code",
   "execution_count": 5,
   "metadata": {},
   "outputs": [
    {
     "ename": "TypeError",
     "evalue": "object.__init__() takes no parameters",
     "output_type": "error",
     "traceback": [
      "\u001b[1;31m---------------------------------------------------------------------------\u001b[0m",
      "\u001b[1;31mTypeError\u001b[0m                                 Traceback (most recent call last)",
      "\u001b[1;32m<ipython-input-5-2962bfc76aab>\u001b[0m in \u001b[0;36m<module>\u001b[1;34m()\u001b[0m\n\u001b[1;32m----> 1\u001b[1;33m \u001b[0mc\u001b[0m \u001b[1;33m=\u001b[0m \u001b[0mCoordinate\u001b[0m\u001b[1;33m(\u001b[0m\u001b[1;36m1\u001b[0m\u001b[1;33m,\u001b[0m\u001b[1;36m2\u001b[0m\u001b[1;33m,\u001b[0m\u001b[1;36m4\u001b[0m\u001b[1;33m)\u001b[0m\u001b[1;33m\u001b[0m\u001b[0m\n\u001b[0m",
      "\u001b[1;32m<ipython-input-4-6618f5335080>\u001b[0m in \u001b[0;36m__init__\u001b[1;34m(self, x, y, z)\u001b[0m\n\u001b[0;32m      1\u001b[0m \u001b[1;32mclass\u001b[0m \u001b[0mCoordinate\u001b[0m\u001b[1;33m(\u001b[0m\u001b[0mTriple\u001b[0m\u001b[1;33m)\u001b[0m\u001b[1;33m:\u001b[0m\u001b[1;33m\u001b[0m\u001b[0m\n\u001b[0;32m      2\u001b[0m     \u001b[1;32mdef\u001b[0m \u001b[0m__init__\u001b[0m\u001b[1;33m(\u001b[0m\u001b[0mself\u001b[0m\u001b[1;33m,\u001b[0m\u001b[0mx\u001b[0m\u001b[1;33m,\u001b[0m\u001b[0my\u001b[0m\u001b[1;33m,\u001b[0m\u001b[0mz\u001b[0m\u001b[1;33m)\u001b[0m\u001b[1;33m:\u001b[0m\u001b[1;33m\u001b[0m\u001b[0m\n\u001b[1;32m----> 3\u001b[1;33m         \u001b[0msuper\u001b[0m\u001b[1;33m(\u001b[0m\u001b[1;33m)\u001b[0m\u001b[1;33m.\u001b[0m\u001b[0m__init__\u001b[0m\u001b[1;33m(\u001b[0m\u001b[0mx\u001b[0m\u001b[1;33m,\u001b[0m\u001b[0my\u001b[0m\u001b[1;33m,\u001b[0m\u001b[0mz\u001b[0m\u001b[1;33m)\u001b[0m\u001b[1;33m\u001b[0m\u001b[0m\n\u001b[0m",
      "\u001b[1;31mTypeError\u001b[0m: object.__init__() takes no parameters"
     ]
    }
   ],
   "source": [
    "c = Coordinate(1,2,4)"
   ]
  },
  {
   "cell_type": "code",
   "execution_count": 6,
   "metadata": {},
   "outputs": [
    {
     "ename": "NameError",
     "evalue": "name 'c' is not defined",
     "output_type": "error",
     "traceback": [
      "\u001b[1;31m---------------------------------------------------------------------------\u001b[0m",
      "\u001b[1;31mNameError\u001b[0m                                 Traceback (most recent call last)",
      "\u001b[1;32m<ipython-input-6-af0828155e27>\u001b[0m in \u001b[0;36m<module>\u001b[1;34m()\u001b[0m\n\u001b[1;32m----> 1\u001b[1;33m \u001b[0mc\u001b[0m\u001b[1;33m.\u001b[0m\u001b[0mshow\u001b[0m\u001b[1;33m(\u001b[0m\u001b[1;33m)\u001b[0m\u001b[1;33m\u001b[0m\u001b[0m\n\u001b[0m",
      "\u001b[1;31mNameError\u001b[0m: name 'c' is not defined"
     ]
    }
   ],
   "source": [
    "c.show()"
   ]
  },
  {
   "cell_type": "code",
   "execution_count": 7,
   "metadata": {},
   "outputs": [
    {
     "ename": "NameError",
     "evalue": "name 'c' is not defined",
     "output_type": "error",
     "traceback": [
      "\u001b[1;31m---------------------------------------------------------------------------\u001b[0m",
      "\u001b[1;31mNameError\u001b[0m                                 Traceback (most recent call last)",
      "\u001b[1;32m<ipython-input-7-889199033819>\u001b[0m in \u001b[0;36m<module>\u001b[1;34m()\u001b[0m\n\u001b[1;32m----> 1\u001b[1;33m \u001b[0mc\u001b[0m\u001b[1;33m.\u001b[0m\u001b[0my\u001b[0m\u001b[1;33m\u001b[0m\u001b[0m\n\u001b[0m",
      "\u001b[1;31mNameError\u001b[0m: name 'c' is not defined"
     ]
    }
   ],
   "source": [
    "c.y"
   ]
  },
  {
   "cell_type": "code",
   "execution_count": 35,
   "metadata": {
    "collapsed": true
   },
   "outputs": [],
   "source": [
    "class Triple(object):\n",
    "    def __init__(self,x,y,z):\n",
    "        self.x = x\n",
    "        self.y = y\n",
    "        self.z = z"
   ]
  },
  {
   "cell_type": "code",
   "execution_count": 36,
   "metadata": {},
   "outputs": [
    {
     "data": {
      "text/plain": [
       "['__class__',\n",
       " '__delattr__',\n",
       " '__dict__',\n",
       " '__dir__',\n",
       " '__doc__',\n",
       " '__eq__',\n",
       " '__format__',\n",
       " '__ge__',\n",
       " '__getattribute__',\n",
       " '__gt__',\n",
       " '__hash__',\n",
       " '__init__',\n",
       " '__le__',\n",
       " '__lt__',\n",
       " '__module__',\n",
       " '__ne__',\n",
       " '__new__',\n",
       " '__reduce__',\n",
       " '__reduce_ex__',\n",
       " '__repr__',\n",
       " '__setattr__',\n",
       " '__sizeof__',\n",
       " '__str__',\n",
       " '__subclasshook__',\n",
       " '__weakref__']"
      ]
     },
     "execution_count": 36,
     "metadata": {},
     "output_type": "execute_result"
    }
   ],
   "source": [
    "dir(Triple)"
   ]
  },
  {
   "cell_type": "code",
   "execution_count": 37,
   "metadata": {
    "collapsed": true
   },
   "outputs": [],
   "source": [
    "t = Triple(1,27,44)"
   ]
  },
  {
   "cell_type": "code",
   "execution_count": 38,
   "metadata": {},
   "outputs": [
    {
     "data": {
      "text/plain": [
       "'<__main__.Triple object at 0x000001FCCAEA62E8>'"
      ]
     },
     "execution_count": 38,
     "metadata": {},
     "output_type": "execute_result"
    }
   ],
   "source": [
    "repr(t)"
   ]
  },
  {
   "cell_type": "code",
   "execution_count": 39,
   "metadata": {},
   "outputs": [
    {
     "name": "stdout",
     "output_type": "stream",
     "text": [
      "<__main__.Triple object at 0x000001FCCAEA62E8>\n"
     ]
    }
   ],
   "source": [
    "print(t)"
   ]
  },
  {
   "cell_type": "code",
   "execution_count": 124,
   "metadata": {
    "collapsed": true
   },
   "outputs": [],
   "source": [
    "class Triple(object):\n",
    "    def __init__(self,x,y,z):\n",
    "        self.x = x\n",
    "        self.y = y\n",
    "        self.z = z\n",
    "    #def __repr__(self):\n",
    "    #    return str(self.x)+str(self.y)+str(self.z)\n",
    "    def __str__(self):\n",
    "        return str(self.x)+str(self.y)+str(self.z)+\" I am the string function\"\n",
    "t = Triple(1,27,44)"
   ]
  },
  {
   "cell_type": "code",
   "execution_count": 125,
   "metadata": {},
   "outputs": [
    {
     "data": {
      "text/plain": [
       "'<__main__.Triple object at 0x000001FCCAE02710>'"
      ]
     },
     "execution_count": 125,
     "metadata": {},
     "output_type": "execute_result"
    }
   ],
   "source": [
    "Triple.__repr__(t)"
   ]
  },
  {
   "cell_type": "code",
   "execution_count": 50,
   "metadata": {},
   "outputs": [
    {
     "data": {
      "text/plain": [
       "'12744'"
      ]
     },
     "execution_count": 50,
     "metadata": {},
     "output_type": "execute_result"
    }
   ],
   "source": [
    "repr(t)"
   ]
  },
  {
   "cell_type": "code",
   "execution_count": 51,
   "metadata": {},
   "outputs": [
    {
     "name": "stdout",
     "output_type": "stream",
     "text": [
      "12744 I am the string function\n"
     ]
    }
   ],
   "source": [
    "print(t)"
   ]
  },
  {
   "cell_type": "code",
   "execution_count": 52,
   "metadata": {},
   "outputs": [
    {
     "name": "stdout",
     "output_type": "stream",
     "text": [
      "<class '__main__.Triple'>\n"
     ]
    }
   ],
   "source": [
    "print(Triple)"
   ]
  },
  {
   "cell_type": "raw",
   "metadata": {},
   "source": [
    "The __str__ and the __repr__ functions of the classes are the functions that are responsible for printing and representing the class information. The repr and str function are same except that print nprmally prints the str string if str string is specified else it gives the repr string. "
   ]
  },
  {
   "cell_type": "markdown",
   "metadata": {},
   "source": [
    "Initializing the class instance variables:"
   ]
  },
  {
   "cell_type": "code",
   "execution_count": 98,
   "metadata": {},
   "outputs": [],
   "source": [
    "var1 = Triple.__new__(Triple,1,2,3)"
   ]
  },
  {
   "cell_type": "code",
   "execution_count": 116,
   "metadata": {},
   "outputs": [],
   "source": [
    "var1 = Triple.__init__(Triple.__new__(Triple,1,2,3),1,2,3)"
   ]
  },
  {
   "cell_type": "code",
   "execution_count": 118,
   "metadata": {},
   "outputs": [
    {
     "data": {
      "text/plain": [
       "['__bool__',\n",
       " '__class__',\n",
       " '__delattr__',\n",
       " '__dir__',\n",
       " '__doc__',\n",
       " '__eq__',\n",
       " '__format__',\n",
       " '__ge__',\n",
       " '__getattribute__',\n",
       " '__gt__',\n",
       " '__hash__',\n",
       " '__init__',\n",
       " '__le__',\n",
       " '__lt__',\n",
       " '__ne__',\n",
       " '__new__',\n",
       " '__reduce__',\n",
       " '__reduce_ex__',\n",
       " '__repr__',\n",
       " '__setattr__',\n",
       " '__sizeof__',\n",
       " '__str__',\n",
       " '__subclasshook__']"
      ]
     },
     "execution_count": 118,
     "metadata": {},
     "output_type": "execute_result"
    }
   ],
   "source": [
    "dir(var1)"
   ]
  },
  {
   "cell_type": "code",
   "execution_count": 119,
   "metadata": {
    "collapsed": true
   },
   "outputs": [],
   "source": [
    "class dummy():\n",
    "    x = 1\n",
    "    def func(self):\n",
    "        print(\"I am in func\")"
   ]
  },
  {
   "cell_type": "code",
   "execution_count": 120,
   "metadata": {
    "collapsed": true
   },
   "outputs": [],
   "source": [
    "s = dummy()"
   ]
  },
  {
   "cell_type": "code",
   "execution_count": 122,
   "metadata": {},
   "outputs": [],
   "source": [
    "s = dummy.__init__(dummy.__new__(dummy))"
   ]
  },
  {
   "cell_type": "code",
   "execution_count": 123,
   "metadata": {},
   "outputs": [
    {
     "name": "stdout",
     "output_type": "stream",
     "text": [
      "None\n"
     ]
    }
   ],
   "source": [
    "print(s)"
   ]
  },
  {
   "cell_type": "raw",
   "metadata": {},
   "source": [
    "I am not able to understand the __new__ method and the __del__ method which may not be essential."
   ]
  },
  {
   "cell_type": "code",
   "execution_count": 126,
   "metadata": {},
   "outputs": [
    {
     "data": {
      "text/plain": [
       "<__main__.Triple at 0x1fccae02710>"
      ]
     },
     "execution_count": 126,
     "metadata": {},
     "output_type": "execute_result"
    }
   ],
   "source": [
    "t"
   ]
  },
  {
   "cell_type": "code",
   "execution_count": 127,
   "metadata": {},
   "outputs": [
    {
     "ename": "AttributeError",
     "evalue": "'Triple' object has no attribute '__del__'",
     "output_type": "error",
     "traceback": [
      "\u001b[1;31m---------------------------------------------------------------------------\u001b[0m",
      "\u001b[1;31mAttributeError\u001b[0m                            Traceback (most recent call last)",
      "\u001b[1;32m<ipython-input-127-84266d7d0d85>\u001b[0m in \u001b[0;36m<module>\u001b[1;34m()\u001b[0m\n\u001b[1;32m----> 1\u001b[1;33m \u001b[0mt\u001b[0m\u001b[1;33m.\u001b[0m\u001b[0m__del__\u001b[0m\u001b[1;33m(\u001b[0m\u001b[1;33m)\u001b[0m\u001b[1;33m\u001b[0m\u001b[0m\n\u001b[0m",
      "\u001b[1;31mAttributeError\u001b[0m: 'Triple' object has no attribute '__del__'"
     ]
    }
   ],
   "source": [
    "t.__del__()"
   ]
  },
  {
   "cell_type": "code",
   "execution_count": 128,
   "metadata": {},
   "outputs": [
    {
     "data": {
      "text/plain": [
       "['__class__',\n",
       " '__delattr__',\n",
       " '__dict__',\n",
       " '__dir__',\n",
       " '__doc__',\n",
       " '__eq__',\n",
       " '__format__',\n",
       " '__ge__',\n",
       " '__getattribute__',\n",
       " '__gt__',\n",
       " '__hash__',\n",
       " '__init__',\n",
       " '__le__',\n",
       " '__lt__',\n",
       " '__module__',\n",
       " '__ne__',\n",
       " '__new__',\n",
       " '__reduce__',\n",
       " '__reduce_ex__',\n",
       " '__repr__',\n",
       " '__setattr__',\n",
       " '__sizeof__',\n",
       " '__str__',\n",
       " '__subclasshook__',\n",
       " '__weakref__',\n",
       " 'x',\n",
       " 'y',\n",
       " 'z']"
      ]
     },
     "execution_count": 128,
     "metadata": {},
     "output_type": "execute_result"
    }
   ],
   "source": [
    "dir(t)"
   ]
  },
  {
   "cell_type": "code",
   "execution_count": 129,
   "metadata": {},
   "outputs": [
    {
     "data": {
      "text/plain": [
       "['__class__',\n",
       " '__delattr__',\n",
       " '__dict__',\n",
       " '__dir__',\n",
       " '__doc__',\n",
       " '__eq__',\n",
       " '__format__',\n",
       " '__ge__',\n",
       " '__getattribute__',\n",
       " '__gt__',\n",
       " '__hash__',\n",
       " '__init__',\n",
       " '__le__',\n",
       " '__lt__',\n",
       " '__module__',\n",
       " '__ne__',\n",
       " '__new__',\n",
       " '__reduce__',\n",
       " '__reduce_ex__',\n",
       " '__repr__',\n",
       " '__setattr__',\n",
       " '__sizeof__',\n",
       " '__str__',\n",
       " '__subclasshook__',\n",
       " '__weakref__']"
      ]
     },
     "execution_count": 129,
     "metadata": {},
     "output_type": "execute_result"
    }
   ],
   "source": [
    "dir(Triple)"
   ]
  },
  {
   "cell_type": "markdown",
   "metadata": {},
   "source": [
    "The comaprision magic methods are the same as listed below:"
   ]
  },
  {
   "cell_type": "raw",
   "metadata": {},
   "source": [
    "x < y → x.__lt__(y)\n",
    "x > y → x.__gt__(y)\n",
    "x <= y → x.__le__(y)\n",
    "x >= y → x.__ge__(y)\n",
    "x == y → x.__eq__(y)\n",
    "x != y → x.__ne__(y)"
   ]
  },
  {
   "cell_type": "markdown",
   "metadata": {},
   "source": [
    "Some other useful magic methods are:"
   ]
  },
  {
   "cell_type": "raw",
   "metadata": {},
   "source": [
    "len(x) → x.__len__()\n",
    "x[i] → x.__getitem__(i)\n",
    "x[i] = y → x.__setitem__(i, y)\n",
    "x[start:stop:step] →\n",
    "x.__getitem__(slice(start, stop, step))\n",
    "k in x → x.__contains__(k)\n",
    "\n",
    "and __add__, __sub__, __mod__, __xor__,__eq__,__hash__ etc."
   ]
  },
  {
   "cell_type": "markdown",
   "metadata": {},
   "source": [
    "I am not sure how to use the __hash__ method."
   ]
  },
  {
   "cell_type": "markdown",
   "metadata": {},
   "source": [
    "Decorators in classes"
   ]
  },
  {
   "cell_type": "raw",
   "metadata": {},
   "source": [
    "The @property and the @setter decorator methods are minutely different from how normally the original functions are used. The functions or methods of the class are normally called. However the methods with the property decorator are attributes rather than functions. So the function or method name with the property decorator converts into a attribute which is referenced without the () parenthesis in the end. Similarly for the @attr.setter method is just use to avoid the calling of the function using the () parenthesis and giving the arguments inside it. Using the @attr.setter method you can easily set the age using the assignment operator on that attribute name. This is shown below. Note: In the age setter and the age property method the class name should be the same. So in essence @property decorator gives you the convenience of using instance_name.method_name instead of instance_name.method_name(). The decorator @attr.setter lets you define a setter metjod for the specified attribute. You can use instance_name.attr = value. The @attr.deleter is a deleter method that can be called which essentially is equivalent to:\n",
    "\n",
    "del instance_name.attr\n",
    "\n",
    "The only caveat is that all the decorated functions for a property must have same name as in age in the following example."
   ]
  },
  {
   "cell_type": "code",
   "execution_count": 42,
   "metadata": {},
   "outputs": [],
   "source": [
    "'''def property(func):\n",
    "        def wrapper():\n",
    "            print(\"The name of the person is {}\".format(func()))\n",
    "        return wrapper'''\n",
    "class Person:\n",
    "    def __init__(self, name = \"Abhishek\", age = 0):\n",
    "        self._name = name\n",
    "        self._age = age\n",
    "    \n",
    "    @property\n",
    "    def name(self):\n",
    "        return self._name\n",
    "    \n",
    "    @property\n",
    "    def age(self):\n",
    "        return self._age\n",
    "    \n",
    "    @age.setter\n",
    "    def age(self, new_age):\n",
    "        if new_age > self._age:\n",
    "            self._age = new_age\n",
    "        else:\n",
    "            raise ValueError('Age must increase')\n",
    "\n",
    "p = Person(age = 20, name = 'Harry')"
   ]
  },
  {
   "cell_type": "code",
   "execution_count": 36,
   "metadata": {},
   "outputs": [
    {
     "data": {
      "text/plain": [
       "'Harry'"
      ]
     },
     "execution_count": 36,
     "metadata": {},
     "output_type": "execute_result"
    }
   ],
   "source": [
    "p.name"
   ]
  },
  {
   "cell_type": "code",
   "execution_count": 37,
   "metadata": {},
   "outputs": [],
   "source": [
    "p.age = 23"
   ]
  },
  {
   "cell_type": "code",
   "execution_count": 38,
   "metadata": {},
   "outputs": [
    {
     "data": {
      "text/plain": [
       "23"
      ]
     },
     "execution_count": 38,
     "metadata": {},
     "output_type": "execute_result"
    }
   ],
   "source": [
    "p.age"
   ]
  },
  {
   "cell_type": "code",
   "execution_count": 39,
   "metadata": {},
   "outputs": [
    {
     "data": {
      "text/plain": [
       "['__class__',\n",
       " '__delattr__',\n",
       " '__dict__',\n",
       " '__dir__',\n",
       " '__doc__',\n",
       " '__eq__',\n",
       " '__format__',\n",
       " '__ge__',\n",
       " '__getattribute__',\n",
       " '__gt__',\n",
       " '__hash__',\n",
       " '__init__',\n",
       " '__le__',\n",
       " '__lt__',\n",
       " '__module__',\n",
       " '__ne__',\n",
       " '__new__',\n",
       " '__reduce__',\n",
       " '__reduce_ex__',\n",
       " '__repr__',\n",
       " '__setattr__',\n",
       " '__sizeof__',\n",
       " '__str__',\n",
       " '__subclasshook__',\n",
       " '__weakref__',\n",
       " '_age',\n",
       " '_name',\n",
       " 'age',\n",
       " 'name']"
      ]
     },
     "execution_count": 39,
     "metadata": {},
     "output_type": "execute_result"
    }
   ],
   "source": [
    "dir(p)"
   ]
  },
  {
   "cell_type": "code",
   "execution_count": 41,
   "metadata": {},
   "outputs": [
    {
     "data": {
      "text/plain": [
       "'Harry'"
      ]
     },
     "execution_count": 41,
     "metadata": {},
     "output_type": "execute_result"
    }
   ],
   "source": [
    "p.name"
   ]
  },
  {
   "cell_type": "markdown",
   "metadata": {},
   "source": [
    "@staticmethod and @classmethod"
   ]
  },
  {
   "cell_type": "markdown",
   "metadata": {},
   "source": [
    "@staticmethod\n",
    "- A static method doesn’t receive a self argument\n",
    "- Static methods should not depend on class attributes\n",
    "- Just a normal function that lives inside a class!\n",
    "\n",
    "@classmethod\n",
    "- A class method gets the class object as cls\n",
    "- Calling a.class_method()\n",
    "    - class_method has access to A (class of object a)\n",
    "- Respects subclassing\n",
    "- Class methods can use\n",
    "    - Class attributes\n",
    "    - The class itself! (to create new instances of cls)\n",
    "    - other class methods\n",
    "    - static methods"
   ]
  },
  {
   "cell_type": "code",
   "execution_count": 43,
   "metadata": {
    "collapsed": true
   },
   "outputs": [],
   "source": [
    "# Class methods vs. Static methods\n",
    "# Source: http://stackoverflow.com/a/12179752\n",
    "\n",
    "class Date:\n",
    "\n",
    "    day = 0\n",
    "    month = 0\n",
    "    year = 0\n",
    "\n",
    "    def __init__(self, day=0, month=0, year=0):\n",
    "        self.day = day\n",
    "        self.month = month\n",
    "        self.year = year\n",
    "\n",
    "    @classmethod\n",
    "    def from_string(cls, date_as_string):\n",
    "        day, month, year = map(int, date_as_string.split('-'))\n",
    "        date1 = cls(day, month, year)\n",
    "        return date1\n",
    "\n",
    "    @staticmethod\n",
    "    def is_date_valid(date_as_string):\n",
    "        day, month, year = map(int, date_as_string.split('-'))\n",
    "        return day <= 31 and month <= 12 and year <= 3999\n",
    "\n",
    "\n",
    "date_str = '11-09-2012'\n",
    "date1 = Date.from_string(date_str)\n",
    "is_date_valid = Date.is_date_valid(date_str)"
   ]
  },
  {
   "cell_type": "markdown",
   "metadata": {},
   "source": [
    "Writing your own Decorators"
   ]
  },
  {
   "cell_type": "code",
   "execution_count": null,
   "metadata": {
    "collapsed": true
   },
   "outputs": [],
   "source": []
  }
 ],
 "metadata": {
  "kernelspec": {
   "display_name": "Python 3",
   "language": "python",
   "name": "python3"
  },
  "language_info": {
   "codemirror_mode": {
    "name": "ipython",
    "version": 3
   },
   "file_extension": ".py",
   "mimetype": "text/x-python",
   "name": "python",
   "nbconvert_exporter": "python",
   "pygments_lexer": "ipython3",
   "version": "3.5.2"
  }
 },
 "nbformat": 4,
 "nbformat_minor": 1
}
