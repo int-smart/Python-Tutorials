{
 "cells": [
  {
   "cell_type": "markdown",
   "metadata": {},
   "source": [
    "## Collections"
   ]
  },
  {
   "cell_type": "code",
   "execution_count": 1,
   "metadata": {
    "collapsed": true
   },
   "outputs": [],
   "source": [
    "import collections"
   ]
  },
  {
   "cell_type": "code",
   "execution_count": 42,
   "metadata": {},
   "outputs": [
    {
     "data": {
      "text/plain": [
       "deque(['c', 'b', 'a'])"
      ]
     },
     "execution_count": 42,
     "metadata": {},
     "output_type": "execute_result"
    }
   ],
   "source": [
    "a = collections.deque()\n",
    "a.append('f')\n",
    "a.append('j')\n",
    "a.append('k')\n",
    "a.append('l')\n",
    "a[1]\n",
    "'k' in a\n",
    "a.extend(\"abs\")\n",
    "a.rotate(1)\n",
    "a.rotate(-1)\n",
    "collections.deque(reversed(a))\n",
    "a.clear()\n",
    "a.extendleft(\"abc\")\n",
    "a"
   ]
  },
  {
   "cell_type": "code",
   "execution_count": 43,
   "metadata": {},
   "outputs": [
    {
     "ename": "SyntaxError",
     "evalue": "invalid syntax (<ipython-input-43-5f456ca2855c>, line 4)",
     "output_type": "error",
     "traceback": [
      "\u001b[1;36m  File \u001b[1;32m\"<ipython-input-43-5f456ca2855c>\"\u001b[1;36m, line \u001b[1;32m4\u001b[0m\n\u001b[1;33m    print elem.upper()\u001b[0m\n\u001b[1;37m             ^\u001b[0m\n\u001b[1;31mSyntaxError\u001b[0m\u001b[1;31m:\u001b[0m invalid syntax\n"
     ]
    }
   ],
   "source": [
    "from collections import deque\n",
    "d = deque('ghi')                 # make a new deque with three items\n",
    "for elem in d:                   # iterate over the deque's elements\n",
    "     print elem.upper()\n",
    "d.append('j')                    # add a new entry to the right side\n",
    "d.appendleft('f')                # add a new entry to the left side\n",
    "d                                # show the representation of the deque\n",
    "\n",
    "d.pop()                          # return and remove the rightmost item\n",
    "d.popleft()                      # return and remove the leftmost item\n",
    "list(d)                          # list the contents of the deque\n",
    "d[0]                             # peek at leftmost item\n",
    "d[-1]                            # peek at rightmost item\n",
    "list(reversed(d))                # list the contents of a deque in reverse\n",
    "'h' in d                         # search the deque\n",
    "d.extend('jkl')                  # add multiple elements at once\n",
    "d\n",
    "deque(['g', 'h', 'i', 'j', 'k', 'l'])\n",
    "d.rotate(1)                      # right rotation\n",
    "d\n",
    "deque(['l', 'g', 'h', 'i', 'j', 'k'])\n",
    "d.rotate(-1)                     # left rotation\n",
    "d\n",
    "deque(['g', 'h', 'i', 'j', 'k', 'l'])\n",
    "\n",
    "deque(reversed(d))               # make a new deque in reverse order\n",
    "deque(['l', 'k', 'j', 'i', 'h', 'g'])\n",
    "d.clear()                        # empty the deque\n",
    "d.pop()                          # cannot pop from an empty deque\n",
    "d.extendleft('abc')              # extendleft() reverses the input order\n",
    "deque(['c', 'b', 'a'])"
   ]
  },
  {
   "cell_type": "code",
   "execution_count": null,
   "metadata": {
    "collapsed": true
   },
   "outputs": [],
   "source": []
  }
 ],
 "metadata": {
  "kernelspec": {
   "display_name": "Python 3",
   "language": "python",
   "name": "python3"
  },
  "language_info": {
   "codemirror_mode": {
    "name": "ipython",
    "version": 3
   },
   "file_extension": ".py",
   "mimetype": "text/x-python",
   "name": "python",
   "nbconvert_exporter": "python",
   "pygments_lexer": "ipython3",
   "version": "3.5.2"
  }
 },
 "nbformat": 4,
 "nbformat_minor": 1
}
