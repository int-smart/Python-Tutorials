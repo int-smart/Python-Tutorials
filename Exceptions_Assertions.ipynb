{
 "cells": [
  {
   "cell_type": "markdown",
   "metadata": {},
   "source": [
    "# Exceptions and Assertions:"
   ]
  },
  {
   "cell_type": "markdown",
   "metadata": {},
   "source": [
    "Exceptions are errors that can be considered as an exception to the normal flow of the program. Some commom error types are:\n",
    "1. Syntax Error: Python cannot parse the code\n",
    "2. Name Error: variable name can not be found\n",
    "3. Attribute Error: A attribute reference of an object fails.\n",
    "4. Type Error: operand of the expression does not have correct type, like adding string and int\n",
    "5. Value Error: Operand type is ok, value is illegal as in if we want input as int but user types in string.\n",
    "6. IO error: input output system reports malfunction may be due to file not found.\n",
    "\n",
    "To handle exceptions we use handlers in python."
   ]
  },
  {
   "cell_type": "code",
   "execution_count": 1,
   "metadata": {},
   "outputs": [
    {
     "name": "stdout",
     "output_type": "stream",
     "text": [
      "Tell me on number: 23\n",
      "Tell me another number: 23\n",
      "1.0\n"
     ]
    }
   ],
   "source": [
    "try:\n",
    "    a = int(input(\"Tell me on number: \"))\n",
    "    b = int(input(\"Tell me another number: \"))\n",
    "    print(a/b)\n",
    "except:\n",
    "    print(\"Bug in user input.\")"
   ]
  },
  {
   "cell_type": "code",
   "execution_count": 2,
   "metadata": {},
   "outputs": [
    {
     "name": "stdout",
     "output_type": "stream",
     "text": [
      "Tell me on number: er\n",
      "Bug in user input.\n"
     ]
    }
   ],
   "source": [
    "try:\n",
    "    a = int(input(\"Tell me on number: \"))\n",
    "    b = int(input(\"Tell me another number: \"))\n",
    "    print(a/b)\n",
    "except:\n",
    "    print(\"Bug in user input.\")"
   ]
  },
  {
   "cell_type": "markdown",
   "metadata": {},
   "source": [
    "This except block above can catch any type of errors. However we can specify which errors we want the except block to catch.    "
   ]
  },
  {
   "cell_type": "code",
   "execution_count": 1,
   "metadata": {},
   "outputs": [
    {
     "name": "stdout",
     "output_type": "stream",
     "text": [
      "Tell me on number: 1\n",
      "Tell me another number: \n",
      "Could not convert to a number.\n"
     ]
    }
   ],
   "source": [
    "try:\n",
    "    a = int(input(\"Tell me on number: \"))\n",
    "    b = int(input(\"Tell me another number: \"))\n",
    "    print(\"a/b =\", a/b)\n",
    "    print(\"a+b =\", a+b)\n",
    "except ValueError:\n",
    "    print(\"Could not convert to a number.\")\n",
    "except ZeroDivisionError:\n",
    "    print(\"Can't divide by zero.\")\n",
    "except:\n",
    "    print(\"Something went very wrong.\")"
   ]
  },
  {
   "cell_type": "code",
   "execution_count": 3,
   "metadata": {},
   "outputs": [
    {
     "name": "stdout",
     "output_type": "stream",
     "text": [
      "Tell me on number: 1\n",
      "Tell me another number: 1\n",
      "a/b = 1.0\n",
      "a+b = 2\n"
     ]
    }
   ],
   "source": [
    "try:\n",
    "    a = int(input(\"Tell me on number: \"))\n",
    "    b = int(input(\"Tell me another number: \"))\n",
    "    print(\"a/b =\", a/b)\n",
    "    print(\"a+b =\", a+b)\n",
    "except (ValueError, ZeroDivisionError):\n",
    "    print(\"Error\")\n",
    "except:\n",
    "    print(\"Something went very wrong.\")"
   ]
  },
  {
   "cell_type": "code",
   "execution_count": 4,
   "metadata": {},
   "outputs": [
    {
     "name": "stdout",
     "output_type": "stream",
     "text": [
      "Tell me on number: 1\n",
      "Tell me another number: 0\n",
      "division by zero\n"
     ]
    }
   ],
   "source": [
    "try:\n",
    "    a = int(input(\"Tell me on number: \"))\n",
    "    b = int(input(\"Tell me another number: \"))\n",
    "    print(\"a/b =\", a/b)\n",
    "    print(\"a+b =\", a+b)\n",
    "except (ValueError, ZeroDivisionError) as e:\n",
    "    print(e)\n",
    "except:\n",
    "    print(\"Something went very wrong.\")"
   ]
  },
  {
   "cell_type": "markdown",
   "metadata": {},
   "source": [
    "Else block is executed if try block executes without giving an error.\n",
    "Finally block executes always. If the try executes w/o error or with error finally is executed. It generally does the housekeeping stuff like closing files, printing outputs etc."
   ]
  },
  {
   "cell_type": "markdown",
   "metadata": {},
   "source": [
    "Its best to signal an error condition or exception when something went wrong from the user in your code or in your code in general. We can not change the value assigned by the user as then the program runs and gives the answer with the changed value and the user does not knows what went wrong as he does not knows that the value was changed as no error exception was created. We dont prefer error values as in return -1 for errors as then you have to check it in the future again if thats the case.\n",
    "So for this we use our own exception. This is done as:"
   ]
  },
  {
   "cell_type": "code",
   "execution_count": 4,
   "metadata": {},
   "outputs": [
    {
     "ename": "ValueError",
     "evalue": "Something went wrong",
     "output_type": "error",
     "traceback": [
      "\u001b[1;31m---------------------------------------------------------------------------\u001b[0m",
      "\u001b[1;31mValueError\u001b[0m                                Traceback (most recent call last)",
      "\u001b[1;32m<ipython-input-4-564697003ce7>\u001b[0m in \u001b[0;36m<module>\u001b[1;34m()\u001b[0m\n\u001b[1;32m----> 1\u001b[1;33m \u001b[1;32mraise\u001b[0m \u001b[0mValueError\u001b[0m\u001b[1;33m(\u001b[0m\u001b[1;34m\"Something went wrong\"\u001b[0m\u001b[1;33m)\u001b[0m\u001b[1;33m\u001b[0m\u001b[0m\n\u001b[0m",
      "\u001b[1;31mValueError\u001b[0m: Something went wrong"
     ]
    }
   ],
   "source": [
    "raise ValueError(\"Something went wrong\")"
   ]
  },
  {
   "cell_type": "code",
   "execution_count": 6,
   "metadata": {
    "collapsed": true
   },
   "outputs": [],
   "source": [
    "def get_ratios(L1,L2):\n",
    "    ratios = []\n",
    "    for index in range(len(L1)):\n",
    "        try:\n",
    "            ratios.append(L1[index]/L2[index])\n",
    "        except ZeroDivisionError:\n",
    "            ratios.append(float('nan')) # float('nan') converts string nan to not a number value\n",
    "        except:\n",
    "            raise ValueError('get_ratios called with bad arg')\n",
    "    return ratios"
   ]
  },
  {
   "cell_type": "markdown",
   "metadata": {},
   "source": [
    "Fun with scores "
   ]
  },
  {
   "cell_type": "code",
   "execution_count": 10,
   "metadata": {
    "scrolled": true
   },
   "outputs": [
    {
     "data": {
      "text/plain": [
       "[[['Pete', 'Smith'], [45.0, 67.0, 32.0], 48.0],\n",
       " [['Amanda', 'Smith'], [65.0, 45.0, 56.0], 55.333333333333336]]"
      ]
     },
     "execution_count": 10,
     "metadata": {},
     "output_type": "execute_result"
    }
   ],
   "source": [
    "l1 = [[['Pete','Smith'],[45.0,67.0,32.0]],\n",
    "     [['Amanda', 'Smith'],[65.0,45.0,56.0]]]\n",
    "\n",
    "def get_new_list(list_elements):\n",
    "    new_list = []\n",
    "    for e in list_elements:\n",
    "        new_list.append([e[0],e[1],avg(e[1])])\n",
    "    return new_list\n",
    "\n",
    "def avg(num):\n",
    "    return sum(num)/len(num)\n",
    "\n",
    "get_new_list(l1)"
   ]
  },
  {
   "cell_type": "code",
   "execution_count": 11,
   "metadata": {
    "collapsed": true
   },
   "outputs": [],
   "source": [
    "l1 = [[['Pete','Smith'],[45.0,67.0,32.0]],\n",
    "     [['Amanda', 'Smith'],[65.0,45.0,56.0]],\n",
    "     [['Li', 'Smith'],[]]]"
   ]
  },
  {
   "cell_type": "code",
   "execution_count": 12,
   "metadata": {},
   "outputs": [
    {
     "ename": "ZeroDivisionError",
     "evalue": "division by zero",
     "output_type": "error",
     "traceback": [
      "\u001b[1;31m---------------------------------------------------------------------------\u001b[0m",
      "\u001b[1;31mZeroDivisionError\u001b[0m                         Traceback (most recent call last)",
      "\u001b[1;32m<ipython-input-12-329758161daf>\u001b[0m in \u001b[0;36m<module>\u001b[1;34m()\u001b[0m\n\u001b[1;32m----> 1\u001b[1;33m \u001b[0mget_new_list\u001b[0m\u001b[1;33m(\u001b[0m\u001b[0ml1\u001b[0m\u001b[1;33m)\u001b[0m\u001b[1;33m\u001b[0m\u001b[0m\n\u001b[0m",
      "\u001b[1;32m<ipython-input-10-b051074751c6>\u001b[0m in \u001b[0;36mget_new_list\u001b[1;34m(list_elements)\u001b[0m\n\u001b[0;32m      5\u001b[0m     \u001b[0mnew_list\u001b[0m \u001b[1;33m=\u001b[0m \u001b[1;33m[\u001b[0m\u001b[1;33m]\u001b[0m\u001b[1;33m\u001b[0m\u001b[0m\n\u001b[0;32m      6\u001b[0m     \u001b[1;32mfor\u001b[0m \u001b[0me\u001b[0m \u001b[1;32min\u001b[0m \u001b[0mlist_elements\u001b[0m\u001b[1;33m:\u001b[0m\u001b[1;33m\u001b[0m\u001b[0m\n\u001b[1;32m----> 7\u001b[1;33m         \u001b[0mnew_list\u001b[0m\u001b[1;33m.\u001b[0m\u001b[0mappend\u001b[0m\u001b[1;33m(\u001b[0m\u001b[1;33m[\u001b[0m\u001b[0me\u001b[0m\u001b[1;33m[\u001b[0m\u001b[1;36m0\u001b[0m\u001b[1;33m]\u001b[0m\u001b[1;33m,\u001b[0m\u001b[0me\u001b[0m\u001b[1;33m[\u001b[0m\u001b[1;36m1\u001b[0m\u001b[1;33m]\u001b[0m\u001b[1;33m,\u001b[0m\u001b[0mavg\u001b[0m\u001b[1;33m(\u001b[0m\u001b[0me\u001b[0m\u001b[1;33m[\u001b[0m\u001b[1;36m1\u001b[0m\u001b[1;33m]\u001b[0m\u001b[1;33m)\u001b[0m\u001b[1;33m]\u001b[0m\u001b[1;33m)\u001b[0m\u001b[1;33m\u001b[0m\u001b[0m\n\u001b[0m\u001b[0;32m      8\u001b[0m     \u001b[1;32mreturn\u001b[0m \u001b[0mnew_list\u001b[0m\u001b[1;33m\u001b[0m\u001b[0m\n\u001b[0;32m      9\u001b[0m \u001b[1;33m\u001b[0m\u001b[0m\n",
      "\u001b[1;32m<ipython-input-10-b051074751c6>\u001b[0m in \u001b[0;36mavg\u001b[1;34m(num)\u001b[0m\n\u001b[0;32m      9\u001b[0m \u001b[1;33m\u001b[0m\u001b[0m\n\u001b[0;32m     10\u001b[0m \u001b[1;32mdef\u001b[0m \u001b[0mavg\u001b[0m\u001b[1;33m(\u001b[0m\u001b[0mnum\u001b[0m\u001b[1;33m)\u001b[0m\u001b[1;33m:\u001b[0m\u001b[1;33m\u001b[0m\u001b[0m\n\u001b[1;32m---> 11\u001b[1;33m     \u001b[1;32mreturn\u001b[0m \u001b[0msum\u001b[0m\u001b[1;33m(\u001b[0m\u001b[0mnum\u001b[0m\u001b[1;33m)\u001b[0m\u001b[1;33m/\u001b[0m\u001b[0mlen\u001b[0m\u001b[1;33m(\u001b[0m\u001b[0mnum\u001b[0m\u001b[1;33m)\u001b[0m\u001b[1;33m\u001b[0m\u001b[0m\n\u001b[0m\u001b[0;32m     12\u001b[0m \u001b[1;33m\u001b[0m\u001b[0m\n\u001b[0;32m     13\u001b[0m \u001b[0mget_new_list\u001b[0m\u001b[1;33m(\u001b[0m\u001b[0ml1\u001b[0m\u001b[1;33m)\u001b[0m\u001b[1;33m\u001b[0m\u001b[0m\n",
      "\u001b[1;31mZeroDivisionError\u001b[0m: division by zero"
     ]
    }
   ],
   "source": [
    "get_new_list(l1)"
   ]
  },
  {
   "cell_type": "markdown",
   "metadata": {},
   "source": [
    "ZeroDivisionError: division by zero as len(num) is zero in Li's case."
   ]
  },
  {
   "cell_type": "code",
   "execution_count": 13,
   "metadata": {
    "collapsed": true
   },
   "outputs": [],
   "source": [
    "def avg(num):\n",
    "    try:\n",
    "        return sum(num)/len(num)\n",
    "    except ZeroDivisionError:\n",
    "        print('Warning: No data')"
   ]
  },
  {
   "cell_type": "code",
   "execution_count": 14,
   "metadata": {},
   "outputs": [
    {
     "name": "stdout",
     "output_type": "stream",
     "text": [
      "Warning: No data\n"
     ]
    },
    {
     "data": {
      "text/plain": [
       "[[['Pete', 'Smith'], [45.0, 67.0, 32.0], 48.0],\n",
       " [['Amanda', 'Smith'], [65.0, 45.0, 56.0], 55.333333333333336],\n",
       " [['Li', 'Smith'], [], None]]"
      ]
     },
     "execution_count": 14,
     "metadata": {},
     "output_type": "execute_result"
    }
   ],
   "source": [
    "get_new_list(l1)"
   ]
  },
  {
   "cell_type": "markdown",
   "metadata": {},
   "source": [
    "The average as None in the case of Li in the previous example tells that the except statement as is evident in python returns a none value when nothing is specififed."
   ]
  },
  {
   "cell_type": "markdown",
   "metadata": {},
   "source": [
    "One other option to do the above thing can be to assign a specific value to the average or to any variable in that case to a default value which can be specified by the function docstring."
   ]
  },
  {
   "cell_type": "code",
   "execution_count": 16,
   "metadata": {
    "collapsed": true
   },
   "outputs": [],
   "source": [
    "def avg(num):\n",
    "    '''This function returns Zero as average when data is \n",
    "    given'''\n",
    "    try:\n",
    "        return sum(num)/len(num)\n",
    "    except ZeroDivisionError:\n",
    "        print('Warning: No data')\n",
    "        return 0.0"
   ]
  },
  {
   "cell_type": "code",
   "execution_count": 17,
   "metadata": {},
   "outputs": [
    {
     "name": "stdout",
     "output_type": "stream",
     "text": [
      "Warning: No data\n"
     ]
    },
    {
     "data": {
      "text/plain": [
       "[[['Pete', 'Smith'], [45.0, 67.0, 32.0], 48.0],\n",
       " [['Amanda', 'Smith'], [65.0, 45.0, 56.0], 55.333333333333336],\n",
       " [['Li', 'Smith'], [], 0.0]]"
      ]
     },
     "execution_count": 17,
     "metadata": {},
     "output_type": "execute_result"
    }
   ],
   "source": [
    "get_new_list(l1)"
   ]
  },
  {
   "cell_type": "markdown",
   "metadata": {},
   "source": [
    "Assertions are used to assert somethings. You can assert that a square root function has all the values greater than zero else the assert statement on finding a negative value from the user will raise an AssertionError."
   ]
  },
  {
   "cell_type": "code",
   "execution_count": 18,
   "metadata": {
    "collapsed": true
   },
   "outputs": [],
   "source": [
    "def avg(num):\n",
    "    assert not len(num) == 0, 'No Data'\n",
    "    return sum(num)/len(num)"
   ]
  },
  {
   "cell_type": "markdown",
   "metadata": {},
   "source": [
    "assert in the above case is the keyword, 'not len(num) == 0' is the function expectations and then there is a string which is printed out when the assertion does not hold."
   ]
  },
  {
   "cell_type": "code",
   "execution_count": 19,
   "metadata": {},
   "outputs": [
    {
     "ename": "AssertionError",
     "evalue": "No Data",
     "output_type": "error",
     "traceback": [
      "\u001b[1;31m---------------------------------------------------------------------------\u001b[0m",
      "\u001b[1;31mAssertionError\u001b[0m                            Traceback (most recent call last)",
      "\u001b[1;32m<ipython-input-19-329758161daf>\u001b[0m in \u001b[0;36m<module>\u001b[1;34m()\u001b[0m\n\u001b[1;32m----> 1\u001b[1;33m \u001b[0mget_new_list\u001b[0m\u001b[1;33m(\u001b[0m\u001b[0ml1\u001b[0m\u001b[1;33m)\u001b[0m\u001b[1;33m\u001b[0m\u001b[0m\n\u001b[0m",
      "\u001b[1;32m<ipython-input-10-b051074751c6>\u001b[0m in \u001b[0;36mget_new_list\u001b[1;34m(list_elements)\u001b[0m\n\u001b[0;32m      5\u001b[0m     \u001b[0mnew_list\u001b[0m \u001b[1;33m=\u001b[0m \u001b[1;33m[\u001b[0m\u001b[1;33m]\u001b[0m\u001b[1;33m\u001b[0m\u001b[0m\n\u001b[0;32m      6\u001b[0m     \u001b[1;32mfor\u001b[0m \u001b[0me\u001b[0m \u001b[1;32min\u001b[0m \u001b[0mlist_elements\u001b[0m\u001b[1;33m:\u001b[0m\u001b[1;33m\u001b[0m\u001b[0m\n\u001b[1;32m----> 7\u001b[1;33m         \u001b[0mnew_list\u001b[0m\u001b[1;33m.\u001b[0m\u001b[0mappend\u001b[0m\u001b[1;33m(\u001b[0m\u001b[1;33m[\u001b[0m\u001b[0me\u001b[0m\u001b[1;33m[\u001b[0m\u001b[1;36m0\u001b[0m\u001b[1;33m]\u001b[0m\u001b[1;33m,\u001b[0m\u001b[0me\u001b[0m\u001b[1;33m[\u001b[0m\u001b[1;36m1\u001b[0m\u001b[1;33m]\u001b[0m\u001b[1;33m,\u001b[0m\u001b[0mavg\u001b[0m\u001b[1;33m(\u001b[0m\u001b[0me\u001b[0m\u001b[1;33m[\u001b[0m\u001b[1;36m1\u001b[0m\u001b[1;33m]\u001b[0m\u001b[1;33m)\u001b[0m\u001b[1;33m]\u001b[0m\u001b[1;33m)\u001b[0m\u001b[1;33m\u001b[0m\u001b[0m\n\u001b[0m\u001b[0;32m      8\u001b[0m     \u001b[1;32mreturn\u001b[0m \u001b[0mnew_list\u001b[0m\u001b[1;33m\u001b[0m\u001b[0m\n\u001b[0;32m      9\u001b[0m \u001b[1;33m\u001b[0m\u001b[0m\n",
      "\u001b[1;32m<ipython-input-18-2ce06abddf19>\u001b[0m in \u001b[0;36mavg\u001b[1;34m(num)\u001b[0m\n\u001b[0;32m      1\u001b[0m \u001b[1;32mdef\u001b[0m \u001b[0mavg\u001b[0m\u001b[1;33m(\u001b[0m\u001b[0mnum\u001b[0m\u001b[1;33m)\u001b[0m\u001b[1;33m:\u001b[0m\u001b[1;33m\u001b[0m\u001b[0m\n\u001b[1;32m----> 2\u001b[1;33m     \u001b[1;32massert\u001b[0m \u001b[1;32mnot\u001b[0m \u001b[0mlen\u001b[0m\u001b[1;33m(\u001b[0m\u001b[0mnum\u001b[0m\u001b[1;33m)\u001b[0m \u001b[1;33m==\u001b[0m \u001b[1;36m0\u001b[0m\u001b[1;33m,\u001b[0m \u001b[1;34m'No Data'\u001b[0m\u001b[1;33m\u001b[0m\u001b[0m\n\u001b[0m\u001b[0;32m      3\u001b[0m     \u001b[1;32mreturn\u001b[0m \u001b[0msum\u001b[0m\u001b[1;33m(\u001b[0m\u001b[0mnum\u001b[0m\u001b[1;33m)\u001b[0m\u001b[1;33m/\u001b[0m\u001b[0mlen\u001b[0m\u001b[1;33m(\u001b[0m\u001b[0mnum\u001b[0m\u001b[1;33m)\u001b[0m\u001b[1;33m\u001b[0m\u001b[0m\n",
      "\u001b[1;31mAssertionError\u001b[0m: No Data"
     ]
    }
   ],
   "source": [
    "get_new_list(l1)"
   ]
  },
  {
   "cell_type": "markdown",
   "metadata": {},
   "source": [
    "If assert is false the program terminates. Assertions are good in checking if the preconditions and post conditions for a function are true and as per your expectations. If they are not it raises an AssertionError. This prevents the program from propagating bad values. One useful case here for this is when let suppose we do the first strategy and then the program terminates because of the return of the default value of the average as in the first case further down in the program we have to manually trace back to the error, however in this case we wont have to trace this back as the Assertion error is pulled as you first notice it."
   ]
  },
  {
   "cell_type": "markdown",
   "metadata": {},
   "source": [
    "Assertions are used when:\n",
    "1. goal is to spot bugs as soon as introduces and make clear what happened\n",
    "2. use as a supplement of testing\n",
    "3. raise exceptions if users supplies bad data input\n",
    "4. use assertions to:\n",
    "    1. check types of arguments or values\n",
    "    2. check that invariants on data structures are met\n",
    "    3. check constraints on return values\n",
    "    4. check for violations of constraints on procedure(eg. no duplicates on a list)"
   ]
  },
  {
   "cell_type": "markdown",
   "metadata": {
    "collapsed": true
   },
   "source": [
    "Notes:"
   ]
  },
  {
   "cell_type": "markdown",
   "metadata": {},
   "source": [
    "Enclose code that might throw an exception in a try block\n",
    "Specify an except block to be executed if an exception is raised\n",
    "It’s best to specify specific errors with\n",
    "except ExceptionType as name:\n",
    "Catch any type of error with except:\n",
    "Include an else block if you need to do something when\n",
    "there isn’t an error\n",
    "The finally block gets executed no matter what\n",
    "You can have multiple except clauses\n",
    "There must be at least 1 except clause or a finally clause\n"
   ]
  },
  {
   "cell_type": "code",
   "execution_count": null,
   "metadata": {
    "collapsed": true
   },
   "outputs": [],
   "source": []
  }
 ],
 "metadata": {
  "kernelspec": {
   "display_name": "Python 3",
   "language": "python",
   "name": "python3"
  },
  "language_info": {
   "codemirror_mode": {
    "name": "ipython",
    "version": 3
   },
   "file_extension": ".py",
   "mimetype": "text/x-python",
   "name": "python",
   "nbconvert_exporter": "python",
   "pygments_lexer": "ipython3",
   "version": "3.5.2"
  }
 },
 "nbformat": 4,
 "nbformat_minor": 1
}
