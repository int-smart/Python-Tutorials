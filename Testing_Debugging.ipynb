{
 "cells": [
  {
   "cell_type": "markdown",
   "metadata": {},
   "source": [
    "# Testing, Debugging, Exceptions and Assertions"
   ]
  },
  {
   "cell_type": "markdown",
   "metadata": {},
   "source": [
    "## Testing"
   ]
  },
  {
   "cell_type": "markdown",
   "metadata": {},
   "source": [
    "For testing you need the test cases and the piece of program to be tested."
   ]
  },
  {
   "cell_type": "markdown",
   "metadata": {},
   "source": [
    "### Classes of Tests"
   ]
  },
  {
   "cell_type": "markdown",
   "metadata": {},
   "source": [
    "#### Unit Testing"
   ]
  },
  {
   "cell_type": "markdown",
   "metadata": {},
   "source": [
    "1. This is used to test the pieces of the program individually. Are all the small modules of the program functioning correctly.\n",
    "2. We therefore test each function separately to see if it works according to the specifications. "
   ]
  },
  {
   "cell_type": "markdown",
   "metadata": {},
   "source": [
    "#### Regression Testing"
   ]
  },
  {
   "cell_type": "markdown",
   "metadata": {},
   "source": [
    "1. When we get an error in the test cases that we applied to a specific module in the Unit testing we apply the correction to that module and then we go back to each of the modules above and apply the test case that failed initially. This is to ensure that the specific test case runs with the already tested modules and after applying the correction the code still runs on all modules correctly.\n",
    "2. Do this a number of times where in we switch between the Unit and regression testing."
   ]
  },
  {
   "cell_type": "markdown",
   "metadata": {},
   "source": [
    "#### Integration testing"
   ]
  },
  {
   "cell_type": "markdown",
   "metadata": {},
   "source": [
    "1. After doing enough iterations of unit and regression testing we move to the Integration testing where we test the code as a whole.\n",
    "2. We check if the different pieces of code i.e. the modules do work in harmony with each other rather than just working correct separately."
   ]
  },
  {
   "cell_type": "markdown",
   "metadata": {},
   "source": [
    "### Useful Testing approaches"
   ]
  },
  {
   "cell_type": "markdown",
   "metadata": {},
   "source": [
    "1. Can use the natural boundaries to test as in if you are testing a code to get the maximum value of x and y check x less than y, x greater than y, x equals to y, x less than equal to y and so on.\n",
    "2. If you can not come up with such boundaries go for random test cases and check for correctness of your code.\n",
    "3. Black box testing: Here we test according to the specifications described in the docstring of a function. So the code for the function does not matter in this case. We can get different test cases from the specification like the boundaries, extremes, normal cases etc.\n",
    "4. Glass Box testing: This type of testing derives the test cases from the code itself. The test cases that go through each path through the code are called path complete. In case of loops however they are hard to find. For a for loop we would needa test case which does the test when the loop runs zero times, once, twice, and so on."
   ]
  },
  {
   "cell_type": "markdown",
   "metadata": {},
   "source": [
    "## Debugging"
   ]
  },
  {
   "cell_type": "code",
   "execution_count": null,
   "metadata": {
    "collapsed": true
   },
   "outputs": [],
   "source": []
  }
 ],
 "metadata": {
  "kernelspec": {
   "display_name": "Python 3",
   "language": "python",
   "name": "python3"
  },
  "language_info": {
   "codemirror_mode": {
    "name": "ipython",
    "version": 3
   },
   "file_extension": ".py",
   "mimetype": "text/x-python",
   "name": "python",
   "nbconvert_exporter": "python",
   "pygments_lexer": "ipython3",
   "version": "3.5.2"
  }
 },
 "nbformat": 4,
 "nbformat_minor": 1
}
